{
 "cells": [
  {
   "cell_type": "code",
   "execution_count": 2,
   "id": "39c9770e",
   "metadata": {},
   "outputs": [],
   "source": [
    "import pandas as pd \n",
    "import numpy as np \n",
    "import matplotlib.pyplot as plt\n",
    "import seaborn as sns \n",
    "from sklearn.linear_model import LogisticRegression\n",
    "from sklearn.metrics import accuracy_score\n",
    "from sklearn.model_selection import train_test_split"
   ]
  },
  {
   "cell_type": "markdown",
   "id": "d9ef858b",
   "metadata": {},
   "source": [
    "# Titanic Survival Prediction Project\n",
    "\n",
    "This notebook analyzes the famous Titanic dataset to predict passenger survival. We'll go through data loading, exploration, preprocessing, and modeling to predict who survived the Titanic disaster.\n",
    "\n",
    "## 1. Data Loading and Initial Exploration"
   ]
  },
  {
   "cell_type": "code",
   "execution_count": 3,
   "id": "2b272c6a",
   "metadata": {},
   "outputs": [],
   "source": [
    "df = pd.read_csv(\"train.csv\")"
   ]
  },
  {
   "cell_type": "code",
   "execution_count": 4,
   "id": "b3ba81d5",
   "metadata": {},
   "outputs": [
    {
     "data": {
      "text/html": [
       "<div>\n",
       "<style scoped>\n",
       "    .dataframe tbody tr th:only-of-type {\n",
       "        vertical-align: middle;\n",
       "    }\n",
       "\n",
       "    .dataframe tbody tr th {\n",
       "        vertical-align: top;\n",
       "    }\n",
       "\n",
       "    .dataframe thead th {\n",
       "        text-align: right;\n",
       "    }\n",
       "</style>\n",
       "<table border=\"1\" class=\"dataframe\">\n",
       "  <thead>\n",
       "    <tr style=\"text-align: right;\">\n",
       "      <th></th>\n",
       "      <th>PassengerId</th>\n",
       "      <th>Survived</th>\n",
       "      <th>Pclass</th>\n",
       "      <th>Name</th>\n",
       "      <th>Sex</th>\n",
       "      <th>Age</th>\n",
       "      <th>SibSp</th>\n",
       "      <th>Parch</th>\n",
       "      <th>Ticket</th>\n",
       "      <th>Fare</th>\n",
       "      <th>Cabin</th>\n",
       "      <th>Embarked</th>\n",
       "    </tr>\n",
       "  </thead>\n",
       "  <tbody>\n",
       "    <tr>\n",
       "      <th>0</th>\n",
       "      <td>1</td>\n",
       "      <td>0</td>\n",
       "      <td>3</td>\n",
       "      <td>Braund, Mr. Owen Harris</td>\n",
       "      <td>male</td>\n",
       "      <td>22.0</td>\n",
       "      <td>1</td>\n",
       "      <td>0</td>\n",
       "      <td>A/5 21171</td>\n",
       "      <td>7.2500</td>\n",
       "      <td>NaN</td>\n",
       "      <td>S</td>\n",
       "    </tr>\n",
       "    <tr>\n",
       "      <th>1</th>\n",
       "      <td>2</td>\n",
       "      <td>1</td>\n",
       "      <td>1</td>\n",
       "      <td>Cumings, Mrs. John Bradley (Florence Briggs Th...</td>\n",
       "      <td>female</td>\n",
       "      <td>38.0</td>\n",
       "      <td>1</td>\n",
       "      <td>0</td>\n",
       "      <td>PC 17599</td>\n",
       "      <td>71.2833</td>\n",
       "      <td>C85</td>\n",
       "      <td>C</td>\n",
       "    </tr>\n",
       "    <tr>\n",
       "      <th>2</th>\n",
       "      <td>3</td>\n",
       "      <td>1</td>\n",
       "      <td>3</td>\n",
       "      <td>Heikkinen, Miss. Laina</td>\n",
       "      <td>female</td>\n",
       "      <td>26.0</td>\n",
       "      <td>0</td>\n",
       "      <td>0</td>\n",
       "      <td>STON/O2. 3101282</td>\n",
       "      <td>7.9250</td>\n",
       "      <td>NaN</td>\n",
       "      <td>S</td>\n",
       "    </tr>\n",
       "    <tr>\n",
       "      <th>3</th>\n",
       "      <td>4</td>\n",
       "      <td>1</td>\n",
       "      <td>1</td>\n",
       "      <td>Futrelle, Mrs. Jacques Heath (Lily May Peel)</td>\n",
       "      <td>female</td>\n",
       "      <td>35.0</td>\n",
       "      <td>1</td>\n",
       "      <td>0</td>\n",
       "      <td>113803</td>\n",
       "      <td>53.1000</td>\n",
       "      <td>C123</td>\n",
       "      <td>S</td>\n",
       "    </tr>\n",
       "    <tr>\n",
       "      <th>4</th>\n",
       "      <td>5</td>\n",
       "      <td>0</td>\n",
       "      <td>3</td>\n",
       "      <td>Allen, Mr. William Henry</td>\n",
       "      <td>male</td>\n",
       "      <td>35.0</td>\n",
       "      <td>0</td>\n",
       "      <td>0</td>\n",
       "      <td>373450</td>\n",
       "      <td>8.0500</td>\n",
       "      <td>NaN</td>\n",
       "      <td>S</td>\n",
       "    </tr>\n",
       "  </tbody>\n",
       "</table>\n",
       "</div>"
      ],
      "text/plain": [
       "   PassengerId  Survived  Pclass  \\\n",
       "0            1         0       3   \n",
       "1            2         1       1   \n",
       "2            3         1       3   \n",
       "3            4         1       1   \n",
       "4            5         0       3   \n",
       "\n",
       "                                                Name     Sex   Age  SibSp  \\\n",
       "0                            Braund, Mr. Owen Harris    male  22.0      1   \n",
       "1  Cumings, Mrs. John Bradley (Florence Briggs Th...  female  38.0      1   \n",
       "2                             Heikkinen, Miss. Laina  female  26.0      0   \n",
       "3       Futrelle, Mrs. Jacques Heath (Lily May Peel)  female  35.0      1   \n",
       "4                           Allen, Mr. William Henry    male  35.0      0   \n",
       "\n",
       "   Parch            Ticket     Fare Cabin Embarked  \n",
       "0      0         A/5 21171   7.2500   NaN        S  \n",
       "1      0          PC 17599  71.2833   C85        C  \n",
       "2      0  STON/O2. 3101282   7.9250   NaN        S  \n",
       "3      0            113803  53.1000  C123        S  \n",
       "4      0            373450   8.0500   NaN        S  "
      ]
     },
     "execution_count": 4,
     "metadata": {},
     "output_type": "execute_result"
    }
   ],
   "source": [
    "df.head()"
   ]
  },
  {
   "cell_type": "markdown",
   "id": "ca386163",
   "metadata": {},
   "source": [
    "## 2. Data Cleaning and Missing Values\n",
    "Understanding and handling missing values in our dataset."
   ]
  },
  {
   "cell_type": "markdown",
   "id": "294ff383",
   "metadata": {},
   "source": [
    "### Data Preproccsiong"
   ]
  },
  {
   "cell_type": "code",
   "execution_count": 5,
   "id": "9e59bdc4",
   "metadata": {},
   "outputs": [
    {
     "data": {
      "text/plain": [
       "(891, 12)"
      ]
     },
     "execution_count": 5,
     "metadata": {},
     "output_type": "execute_result"
    }
   ],
   "source": [
    "df.shape"
   ]
  },
  {
   "cell_type": "code",
   "execution_count": 6,
   "id": "c1bcbedd",
   "metadata": {},
   "outputs": [
    {
     "name": "stdout",
     "output_type": "stream",
     "text": [
      "<class 'pandas.core.frame.DataFrame'>\n",
      "RangeIndex: 891 entries, 0 to 890\n",
      "Data columns (total 12 columns):\n",
      " #   Column       Non-Null Count  Dtype  \n",
      "---  ------       --------------  -----  \n",
      " 0   PassengerId  891 non-null    int64  \n",
      " 1   Survived     891 non-null    int64  \n",
      " 2   Pclass       891 non-null    int64  \n",
      " 3   Name         891 non-null    object \n",
      " 4   Sex          891 non-null    object \n",
      " 5   Age          714 non-null    float64\n",
      " 6   SibSp        891 non-null    int64  \n",
      " 7   Parch        891 non-null    int64  \n",
      " 8   Ticket       891 non-null    object \n",
      " 9   Fare         891 non-null    float64\n",
      " 10  Cabin        204 non-null    object \n",
      " 11  Embarked     889 non-null    object \n",
      "dtypes: float64(2), int64(5), object(5)\n",
      "memory usage: 83.7+ KB\n"
     ]
    }
   ],
   "source": [
    "df.info()"
   ]
  },
  {
   "cell_type": "code",
   "execution_count": 7,
   "id": "f93eec2b",
   "metadata": {},
   "outputs": [
    {
     "data": {
      "text/plain": [
       "PassengerId      0\n",
       "Survived         0\n",
       "Pclass           0\n",
       "Name             0\n",
       "Sex              0\n",
       "Age            177\n",
       "SibSp            0\n",
       "Parch            0\n",
       "Ticket           0\n",
       "Fare             0\n",
       "Cabin          687\n",
       "Embarked         2\n",
       "dtype: int64"
      ]
     },
     "execution_count": 7,
     "metadata": {},
     "output_type": "execute_result"
    }
   ],
   "source": [
    "df.isnull().sum()"
   ]
  },
  {
   "cell_type": "markdown",
   "id": "8c8f9893",
   "metadata": {},
   "source": [
    "### Handling Missing VAlues"
   ]
  },
  {
   "cell_type": "code",
   "execution_count": 8,
   "id": "dec5d0c6",
   "metadata": {},
   "outputs": [],
   "source": [
    "df = df.drop('Cabin', axis=1)"
   ]
  },
  {
   "cell_type": "markdown",
   "id": "fff70925",
   "metadata": {},
   "source": [
    "## 3. Feature Engineering and Data Preprocessing\n"
   ]
  },
  {
   "cell_type": "code",
   "execution_count": 9,
   "id": "55ab3bae",
   "metadata": {},
   "outputs": [],
   "source": [
    "df['Age'] = df['Age'].fillna(df['Age'].mean)"
   ]
  },
  {
   "cell_type": "code",
   "execution_count": 10,
   "id": "6de1738b",
   "metadata": {},
   "outputs": [],
   "source": [
    "df['Embarked'] = df['Embarked'].dropna"
   ]
  },
  {
   "cell_type": "code",
   "execution_count": 11,
   "id": "3ca15fd1",
   "metadata": {},
   "outputs": [
    {
     "data": {
      "text/plain": [
       "PassengerId    0\n",
       "Survived       0\n",
       "Pclass         0\n",
       "Name           0\n",
       "Sex            0\n",
       "Age            0\n",
       "SibSp          0\n",
       "Parch          0\n",
       "Ticket         0\n",
       "Fare           0\n",
       "Embarked       0\n",
       "dtype: int64"
      ]
     },
     "execution_count": 11,
     "metadata": {},
     "output_type": "execute_result"
    }
   ],
   "source": [
    "df.isnull().sum()"
   ]
  },
  {
   "cell_type": "markdown",
   "id": "775c7a1f",
   "metadata": {},
   "source": [
    "### EDA"
   ]
  },
  {
   "cell_type": "code",
   "execution_count": 12,
   "id": "74a2796b",
   "metadata": {},
   "outputs": [
    {
     "data": {
      "text/html": [
       "<div>\n",
       "<style scoped>\n",
       "    .dataframe tbody tr th:only-of-type {\n",
       "        vertical-align: middle;\n",
       "    }\n",
       "\n",
       "    .dataframe tbody tr th {\n",
       "        vertical-align: top;\n",
       "    }\n",
       "\n",
       "    .dataframe thead th {\n",
       "        text-align: right;\n",
       "    }\n",
       "</style>\n",
       "<table border=\"1\" class=\"dataframe\">\n",
       "  <thead>\n",
       "    <tr style=\"text-align: right;\">\n",
       "      <th></th>\n",
       "      <th>PassengerId</th>\n",
       "      <th>Survived</th>\n",
       "      <th>Pclass</th>\n",
       "      <th>SibSp</th>\n",
       "      <th>Parch</th>\n",
       "      <th>Fare</th>\n",
       "    </tr>\n",
       "  </thead>\n",
       "  <tbody>\n",
       "    <tr>\n",
       "      <th>count</th>\n",
       "      <td>891.000000</td>\n",
       "      <td>891.000000</td>\n",
       "      <td>891.000000</td>\n",
       "      <td>891.000000</td>\n",
       "      <td>891.000000</td>\n",
       "      <td>891.000000</td>\n",
       "    </tr>\n",
       "    <tr>\n",
       "      <th>mean</th>\n",
       "      <td>446.000000</td>\n",
       "      <td>0.383838</td>\n",
       "      <td>2.308642</td>\n",
       "      <td>0.523008</td>\n",
       "      <td>0.381594</td>\n",
       "      <td>32.204208</td>\n",
       "    </tr>\n",
       "    <tr>\n",
       "      <th>std</th>\n",
       "      <td>257.353842</td>\n",
       "      <td>0.486592</td>\n",
       "      <td>0.836071</td>\n",
       "      <td>1.102743</td>\n",
       "      <td>0.806057</td>\n",
       "      <td>49.693429</td>\n",
       "    </tr>\n",
       "    <tr>\n",
       "      <th>min</th>\n",
       "      <td>1.000000</td>\n",
       "      <td>0.000000</td>\n",
       "      <td>1.000000</td>\n",
       "      <td>0.000000</td>\n",
       "      <td>0.000000</td>\n",
       "      <td>0.000000</td>\n",
       "    </tr>\n",
       "    <tr>\n",
       "      <th>25%</th>\n",
       "      <td>223.500000</td>\n",
       "      <td>0.000000</td>\n",
       "      <td>2.000000</td>\n",
       "      <td>0.000000</td>\n",
       "      <td>0.000000</td>\n",
       "      <td>7.910400</td>\n",
       "    </tr>\n",
       "    <tr>\n",
       "      <th>50%</th>\n",
       "      <td>446.000000</td>\n",
       "      <td>0.000000</td>\n",
       "      <td>3.000000</td>\n",
       "      <td>0.000000</td>\n",
       "      <td>0.000000</td>\n",
       "      <td>14.454200</td>\n",
       "    </tr>\n",
       "    <tr>\n",
       "      <th>75%</th>\n",
       "      <td>668.500000</td>\n",
       "      <td>1.000000</td>\n",
       "      <td>3.000000</td>\n",
       "      <td>1.000000</td>\n",
       "      <td>0.000000</td>\n",
       "      <td>31.000000</td>\n",
       "    </tr>\n",
       "    <tr>\n",
       "      <th>max</th>\n",
       "      <td>891.000000</td>\n",
       "      <td>1.000000</td>\n",
       "      <td>3.000000</td>\n",
       "      <td>8.000000</td>\n",
       "      <td>6.000000</td>\n",
       "      <td>512.329200</td>\n",
       "    </tr>\n",
       "  </tbody>\n",
       "</table>\n",
       "</div>"
      ],
      "text/plain": [
       "       PassengerId    Survived      Pclass       SibSp       Parch        Fare\n",
       "count   891.000000  891.000000  891.000000  891.000000  891.000000  891.000000\n",
       "mean    446.000000    0.383838    2.308642    0.523008    0.381594   32.204208\n",
       "std     257.353842    0.486592    0.836071    1.102743    0.806057   49.693429\n",
       "min       1.000000    0.000000    1.000000    0.000000    0.000000    0.000000\n",
       "25%     223.500000    0.000000    2.000000    0.000000    0.000000    7.910400\n",
       "50%     446.000000    0.000000    3.000000    0.000000    0.000000   14.454200\n",
       "75%     668.500000    1.000000    3.000000    1.000000    0.000000   31.000000\n",
       "max     891.000000    1.000000    3.000000    8.000000    6.000000  512.329200"
      ]
     },
     "execution_count": 12,
     "metadata": {},
     "output_type": "execute_result"
    }
   ],
   "source": [
    "df.describe()"
   ]
  },
  {
   "cell_type": "code",
   "execution_count": 13,
   "id": "7589143e",
   "metadata": {},
   "outputs": [
    {
     "data": {
      "text/plain": [
       "Index(['PassengerId', 'Survived', 'Pclass', 'Name', 'Sex', 'Age', 'SibSp',\n",
       "       'Parch', 'Ticket', 'Fare', 'Embarked'],\n",
       "      dtype='object')"
      ]
     },
     "execution_count": 13,
     "metadata": {},
     "output_type": "execute_result"
    }
   ],
   "source": [
    "df.columns"
   ]
  },
  {
   "cell_type": "code",
   "execution_count": 14,
   "id": "eddfce3c",
   "metadata": {},
   "outputs": [
    {
     "data": {
      "text/plain": [
       "Survived\n",
       "0    549\n",
       "1    342\n",
       "Name: count, dtype: int64"
      ]
     },
     "execution_count": 14,
     "metadata": {},
     "output_type": "execute_result"
    }
   ],
   "source": [
    "df['Survived'].value_counts()"
   ]
  },
  {
   "cell_type": "code",
   "execution_count": 15,
   "id": "342b8d2e",
   "metadata": {},
   "outputs": [
    {
     "data": {
      "text/plain": [
       "Pclass\n",
       "3    491\n",
       "1    216\n",
       "2    184\n",
       "Name: count, dtype: int64"
      ]
     },
     "execution_count": 15,
     "metadata": {},
     "output_type": "execute_result"
    }
   ],
   "source": [
    "df['Pclass'].value_counts()"
   ]
  },
  {
   "cell_type": "code",
   "execution_count": 16,
   "id": "4aeada7d",
   "metadata": {},
   "outputs": [
    {
     "data": {
      "image/png": "[encoded data removed]",
      "text/plain": [
       "<Figure size 1000x600 with 1 Axes>"
      ]
     },
     "metadata": {},
     "output_type": "display_data"
    }
   ],
   "source": [
    "sns.set_palette(\"husl\")\n",
    "\n",
    "# Create a figure for survival distribution\n",
    "plt.figure(figsize=(10, 6))\n",
    "sns.countplot(data=df, x='Survived')\n",
    "plt.title('Distribution of Survival', fontsize=14)\n",
    "plt.xlabel('Survived (0 = No, 1 = Yes)', fontsize=12)\n",
    "plt.ylabel('Count', fontsize=12)\n",
    "\n",
    "# Add percentage labels on top of each bar\n",
    "total = len(df['Survived'])\n",
    "for p in plt.gca().patches:\n",
    "    percentage = '{:.1f}%'.format(100 * p.get_height()/total)\n",
    "    x = p.get_x() + p.get_width()/2\n",
    "    y = p.get_height()\n",
    "    plt.annotate(percentage, (x, y), ha='center', va='bottom')\n",
    "\n",
    "plt.show()"
   ]
  },
  {
   "cell_type": "markdown",
   "id": "cad62c3c",
   "metadata": {},
   "source": [
    "## 4. Data Visualization and Analysis\n"
   ]
  },
  {
   "cell_type": "markdown",
   "id": "216f547d",
   "metadata": {},
   "source": [
    "### Survival Rate by Gender\n",
    "Let's analyze how survival rates differed between male and female passengers."
   ]
  },
  {
   "cell_type": "code",
   "execution_count": 17,
   "id": "23c8d2b5",
   "metadata": {},
   "outputs": [
    {
     "data": {
      "image/png": "[encoded data removed]",
      "text/plain": [
       "<Figure size 1000x600 with 1 Axes>"
      ]
     },
     "metadata": {},
     "output_type": "display_data"
    },
    {
     "data": {
      "image/png": "[encoded data removed]",
      "text/plain": [
       "<Figure size 1000x600 with 1 Axes>"
      ]
     },
     "metadata": {},
     "output_type": "display_data"
    }
   ],
   "source": [
    "# Create plot for survival rate by gender\n",
    "plt.figure(figsize=(10, 6))\n",
    "sns.barplot(data=df, x='Sex', y='Survived')\n",
    "plt.title('Survival Rate by Gender', fontsize=14)\n",
    "plt.xlabel('Gender', fontsize=12)\n",
    "plt.ylabel('Survival Rate', fontsize=12)\n",
    "\n",
    "# Add percentage labels\n",
    "for i in plt.gca().containers:\n",
    "    plt.gca().bar_label(i, fmt='%.2f%%', padding=3)\n",
    "\n",
    "plt.show()\n",
    "\n",
    "# Create a more detailed view using crosstab\n",
    "survival_by_gender = pd.crosstab(df['Sex'], df['Survived'])\n",
    "survival_by_gender.plot(kind='bar', stacked=True, figsize=(10, 6))\n",
    "plt.title('Survival Distribution by Gender', fontsize=14)\n",
    "plt.xlabel('Gender', fontsize=12)\n",
    "plt.ylabel('Count', fontsize=12)\n",
    "plt.legend(title='Survived', labels=['No', 'Yes'])\n",
    "plt.show()"
   ]
  },
  {
   "cell_type": "markdown",
   "id": "53fc47b3",
   "metadata": {},
   "source": [
    "### Survival Rate by Passenger Class\n",
    "Let's examine how passenger class (Pclass) affected survival rates."
   ]
  },
  {
   "cell_type": "code",
   "execution_count": 18,
   "id": "82ecab38",
   "metadata": {},
   "outputs": [
    {
     "data": {
      "image/png": "[encoded data removed]",
      "text/plain": [
       "<Figure size 1000x600 with 1 Axes>"
      ]
     },
     "metadata": {},
     "output_type": "display_data"
    },
    {
     "data": {
      "image/png": "[encoded data removed]",
      "text/plain": [
       "<Figure size 1000x600 with 1 Axes>"
      ]
     },
     "metadata": {},
     "output_type": "display_data"
    }
   ],
   "source": [
    "# Create plot for survival rate by passenger class\n",
    "plt.figure(figsize=(10, 6))\n",
    "sns.barplot(data=df, x='Pclass', y='Survived')\n",
    "plt.title('Survival Rate by Passenger Class', fontsize=14)\n",
    "plt.xlabel('Passenger Class', fontsize=12)\n",
    "plt.ylabel('Survival Rate', fontsize=12)\n",
    "\n",
    "# Add percentage labels\n",
    "for i in plt.gca().containers:\n",
    "    plt.gca().bar_label(i, fmt='%.2f%%', padding=3)\n",
    "\n",
    "plt.show()\n",
    "\n",
    "# Create a more detailed view\n",
    "survival_by_class = pd.crosstab(df['Pclass'], df['Survived'])\n",
    "survival_by_class.plot(kind='bar', stacked=True, figsize=(10, 6))\n",
    "plt.title('Survival Distribution by Passenger Class', fontsize=14)\n",
    "plt.xlabel('Passenger Class', fontsize=12)\n",
    "plt.ylabel('Count', fontsize=12)\n",
    "plt.legend(title='Survived', labels=['No', 'Yes'])\n",
    "plt.show()"
   ]
  },
  {
   "cell_type": "markdown",
   "id": "b70f6f05",
   "metadata": {},
   "source": [
    "### 4.2 Gender and Survival\n",
    "Analyzing how gender affected survival rates."
   ]
  },
  {
   "cell_type": "markdown",
   "id": "c2c43804",
   "metadata": {},
   "source": [
    "### Age Distribution and Survival\n",
    "Let's analyze how age affected survival rates."
   ]
  },
  {
   "cell_type": "markdown",
   "id": "6747b966",
   "metadata": {},
   "source": [
    "### Correlation Matrix\n",
    "Let's create a correlation matrix to understand the relationships between numerical variables."
   ]
  },
  {
   "cell_type": "code",
   "execution_count": 19,
   "id": "188e9910",
   "metadata": {},
   "outputs": [
    {
     "data": {
      "image/png": "[encoded data removed]",
      "text/plain": [
       "<Figure size 1000x800 with 2 Axes>"
      ]
     },
     "metadata": {},
     "output_type": "display_data"
    },
    {
     "name": "stdout",
     "output_type": "stream",
     "text": [
      "\n",
      "Correlation with Survival:\n",
      "Survived       1.000000\n",
      "Fare           0.257307\n",
      "Parch          0.081629\n",
      "PassengerId   -0.005007\n",
      "SibSp         -0.035322\n",
      "Pclass        -0.338481\n",
      "Name: Survived, dtype: float64\n"
     ]
    }
   ],
   "source": [
    "# Calculate correlation matrix for numeric columns\n",
    "numeric_cols = df.select_dtypes(include=['int64', 'float64']).columns\n",
    "correlation_matrix = df[numeric_cols].corr()\n",
    "\n",
    "# Create heatmap\n",
    "plt.figure(figsize=(10, 8))\n",
    "sns.heatmap(correlation_matrix, annot=True, cmap='coolwarm', center=0, fmt='.2f')\n",
    "plt.title('Correlation Matrix of Numeric Features', fontsize=14)\n",
    "plt.show()\n",
    "\n",
    "# Print correlation with 'Survived' variable\n",
    "print(\"\\nCorrelation with Survival:\")\n",
    "print(correlation_matrix['Survived'].sort_values(ascending=False))"
   ]
  },
  {
   "cell_type": "markdown",
   "id": "37633d11",
   "metadata": {},
   "source": [
    "## 5. Feature Encoding\n",
    "Converting categorical variables to numerical format for machine learning.\n",
    "\n",
    "### 5.1 Categorical Variable Encoding\n",
    "Using one-hot encoding with dropping first category to avoid multicollinearity."
   ]
  },
  {
   "cell_type": "markdown",
   "id": "56937282",
   "metadata": {},
   "source": [
    "We'll use pandas `get_dummies()` function to convert categorical variables into numerical format through one-hot encoding. \n",
    "\n",
    "Important note: When using dummy variables, we need to drop one category from each feature to avoid the \"dummy variable trap\" (multicollinearity). This is because:\n",
    "- If we have a binary feature (like Sex: male/female), we only need one column (0=male, 1=female)\n",
    "- For features with n categories, we only need n-1 dummy columns because the last category can be inferred from the others\n",
    "- We use `drop_first=True` in `get_dummies()` to handle this automatically"
   ]
  },
  {
   "cell_type": "code",
   "execution_count": 20,
   "id": "952f3f11",
   "metadata": {},
   "outputs": [
    {
     "name": "stdout",
     "output_type": "stream",
     "text": [
      "Categorical columns in the dataset:\n",
      "Index(['Name', 'Sex', 'Age', 'Ticket', 'Embarked'], dtype='object')\n",
      "\n",
      "Example with 'Sex' column:\n",
      "Without dropping first category (includes both):\n",
      "['Sex_female', 'Sex_male']\n",
      "\n",
      "With dropping first category (drop_first=True):\n",
      "['Sex_male']\n",
      "\n",
      "Final encoded categorical columns:\n",
      "['Name_Abbott, Mr. Rossmore Edward', 'Name_Abbott, Mrs. Stanton (Rosa Hunt)', 'Name_Abelson, Mr. Samuel', 'Name_Abelson, Mrs. Samuel (Hannah Wizosky)', 'Name_Adahl, Mr. Mauritz Nils Martin', 'Name_Adams, Mr. John', 'Name_Ahlin, Mrs. Johan (Johanna Persdotter Larsson)', 'Name_Aks, Mrs. Sam (Leah Rosen)', 'Name_Albimona, Mr. Nassef Cassem', 'Name_Alexander, Mr. William', 'Name_Alhomaki, Mr. Ilmari Rudolf', 'Name_Ali, Mr. Ahmed', 'Name_Ali, Mr. William', 'Name_Allen, Miss. Elisabeth Walton', 'Name_Allen, Mr. William Henry', 'Name_Allison, Master. Hudson Trevor', 'Name_Allison, Miss. Helen Loraine', 'Name_Allison, Mrs. Hudson J C (Bessie Waldo Daniels)', 'Name_Allum, Mr. Owen George', 'Name_Andersen-Jensen, Miss. Carla Christine Nielsine', 'Name_Anderson, Mr. Harry', 'Name_Andersson, Master. Sigvard Harald Elias', 'Name_Andersson, Miss. Ebba Iris Alfrida', 'Name_Andersson, Miss. Ellis Anna Maria', 'Name_Andersson, Miss. Erna Alexandra', 'Name_Andersson, Miss. Ingeborg Constanzia', 'Name_Andersson, Miss. Sigrid Elisabeth', 'Name_Andersson, Mr. Anders Johan', 'Name_Andersson, Mr. August Edvard (\"Wennerstrom\")', 'Name_Andersson, Mrs. Anders Johan (Alfrida Konstantia Brogren)', 'Name_Andreasson, Mr. Paul Edvin', 'Name_Andrew, Mr. Edgardo Samuel', 'Name_Andrews, Miss. Kornelia Theodosia', 'Name_Andrews, Mr. Thomas Jr', 'Name_Angle, Mrs. William A (Florence \"Mary\" Agnes Hughes)', 'Name_Appleton, Mrs. Edward Dale (Charlotte Lamson)', 'Name_Arnold-Franchi, Mr. Josef', 'Name_Arnold-Franchi, Mrs. Josef (Josefine Franchi)', 'Name_Artagaveytia, Mr. Ramon', 'Name_Asim, Mr. Adola', 'Name_Asplund, Master. Clarence Gustaf Hugo', 'Name_Asplund, Master. Edvin Rojj Felix', 'Name_Asplund, Miss. Lillian Gertrud', 'Name_Asplund, Mrs. Carl Oscar (Selma Augusta Emilia Johansson)', 'Name_Astor, Mrs. John Jacob (Madeleine Talmadge Force)', 'Name_Attalah, Miss. Malake', 'Name_Attalah, Mr. Sleiman', 'Name_Aubart, Mme. Leontine Pauline', 'Name_Augustsson, Mr. Albert', 'Name_Ayoub, Miss. Banoura', 'Name_Backstrom, Mr. Karl Alfred', 'Name_Backstrom, Mrs. Karl Alfred (Maria Mathilda Gustafsson)', 'Name_Baclini, Miss. Eugenie', 'Name_Baclini, Miss. Helene Barbara', 'Name_Baclini, Miss. Marie Catherine', 'Name_Baclini, Mrs. Solomon (Latifa Qurban)', 'Name_Badt, Mr. Mohamed', 'Name_Bailey, Mr. Percy Andrew', 'Name_Balkic, Mr. Cerin', 'Name_Ball, Mrs. (Ada E Hall)', 'Name_Banfield, Mr. Frederick James', 'Name_Barah, Mr. Hanna Assi', 'Name_Barbara, Miss. Saiide', 'Name_Barbara, Mrs. (Catherine David)', 'Name_Barber, Miss. Ellen \"Nellie\"', 'Name_Barkworth, Mr. Algernon Henry Wilson', 'Name_Barton, Mr. David John', 'Name_Bateman, Rev. Robert James', 'Name_Baumann, Mr. John D', 'Name_Baxter, Mr. Quigg Edmond', 'Name_Baxter, Mrs. James (Helene DeLaudeniere Chaput)', 'Name_Bazzani, Miss. Albina', 'Name_Beane, Mr. Edward', 'Name_Beane, Mrs. Edward (Ethel Clarke)', 'Name_Beavan, Mr. William Thomas', 'Name_Becker, Master. Richard F', 'Name_Becker, Miss. Marion Louise', 'Name_Beckwith, Mr. Richard Leonard', 'Name_Beckwith, Mrs. Richard Leonard (Sallie Monypeny)', 'Name_Beesley, Mr. Lawrence', 'Name_Behr, Mr. Karl Howell', 'Name_Bengtsson, Mr. John Viktor', 'Name_Berglund, Mr. Karl Ivar Sven', 'Name_Berriman, Mr. William John', 'Name_Betros, Mr. Tannous', 'Name_Bidois, Miss. Rosalie', 'Name_Bing, Mr. Lee', 'Name_Birkeland, Mr. Hans Martin Monsen', 'Name_Bishop, Mr. Dickinson H', 'Name_Bishop, Mrs. Dickinson H (Helen Walton)', 'Name_Bissette, Miss. Amelia', 'Name_Bjornstrom-Steffansson, Mr. Mauritz Hakan', 'Name_Blackwell, Mr. Stephen Weart', 'Name_Blank, Mr. Henry', 'Name_Bonnell, Miss. Elizabeth', 'Name_Bostandyeff, Mr. Guentcho', 'Name_Boulos, Miss. Nourelain', 'Name_Boulos, Mr. Hanna', 'Name_Boulos, Mrs. Joseph (Sultana)', 'Name_Bourke, Miss. Mary', 'Name_Bourke, Mr. John', 'Name_Bourke, Mrs. John (Catherine)', 'Name_Bowen, Mr. David John \"Dai\"', 'Name_Bowerman, Miss. Elsie Edith', 'Name_Bracken, Mr. James H', 'Name_Bradley, Mr. George (\"George Arthur Brayton\")', 'Name_Braund, Mr. Lewis Richard', 'Name_Braund, Mr. Owen Harris', 'Name_Brewe, Dr. Arthur Jackson', 'Name_Brocklebank, Mr. William Alfred', 'Name_Brown, Miss. Amelia \"Mildred\"', 'Name_Brown, Mr. Thomas William Solomon', 'Name_Brown, Mrs. James Joseph (Margaret Tobin)', 'Name_Brown, Mrs. Thomas William Solomon (Elizabeth Catherine Ford)', 'Name_Bryhl, Mr. Kurt Arnold Gottfrid', 'Name_Burke, Mr. Jeremiah', 'Name_Burns, Miss. Elizabeth Margaret', 'Name_Buss, Miss. Kate', 'Name_Butler, Mr. Reginald Fenton', 'Name_Butt, Major. Archibald Willingham', 'Name_Byles, Rev. Thomas Roussel Davids', 'Name_Bystrom, Mrs. (Karolina)', 'Name_Cacic, Miss. Marija', 'Name_Cacic, Mr. Luka', 'Name_Cairns, Mr. Alexander', 'Name_Calderhead, Mr. Edward Pennington', 'Name_Caldwell, Master. Alden Gates', 'Name_Caldwell, Mrs. Albert Francis (Sylvia Mae Harbaugh)', 'Name_Calic, Mr. Jovo', 'Name_Calic, Mr. Petar', 'Name_Cameron, Miss. Clear Annie', 'Name_Campbell, Mr. William', 'Name_Canavan, Miss. Mary', 'Name_Cann, Mr. Ernest Charles', 'Name_Caram, Mrs. Joseph (Maria Elias)', 'Name_Carbines, Mr. William', 'Name_Cardeza, Mr. Thomas Drake Martinez', 'Name_Carlsson, Mr. August Sigfrid', 'Name_Carlsson, Mr. Frans Olof', 'Name_Carr, Miss. Helen \"Ellen\"', 'Name_Carrau, Mr. Francisco M', 'Name_Carter, Master. William Thornton II', 'Name_Carter, Miss. Lucile Polk', 'Name_Carter, Mr. William Ernest', 'Name_Carter, Mrs. Ernest Courtenay (Lilian Hughes)', 'Name_Carter, Mrs. William Ernest (Lucile Polk)', 'Name_Carter, Rev. Ernest Courtenay', 'Name_Cavendish, Mr. Tyrell William', 'Name_Celotti, Mr. Francesco', 'Name_Chaffee, Mr. Herbert Fuller', 'Name_Chambers, Mr. Norman Campbell', 'Name_Chambers, Mrs. Norman Campbell (Bertha Griggs)', 'Name_Chapman, Mr. Charles Henry', 'Name_Chapman, Mr. John Henry', 'Name_Charters, Mr. David', 'Name_Cherry, Miss. Gladys', 'Name_Chibnall, Mrs. (Edith Martha Bowerman)', 'Name_Chip, Mr. Chang', 'Name_Christmann, Mr. Emil', 'Name_Christy, Miss. Julie Rachel', 'Name_Chronopoulos, Mr. Apostolos', 'Name_Clarke, Mrs. Charles V (Ada Maria Winfield)', 'Name_Cleaver, Miss. Alice', 'Name_Clifford, Mr. George Quincy', 'Name_Coelho, Mr. Domingos Fernandeo', 'Name_Cohen, Mr. Gurshon \"Gus\"', 'Name_Coleff, Mr. Peju', 'Name_Coleff, Mr. Satio', 'Name_Coleridge, Mr. Reginald Charles', 'Name_Collander, Mr. Erik Gustaf', 'Name_Colley, Mr. Edward Pomeroy', 'Name_Collyer, Miss. Marjorie \"Lottie\"', 'Name_Collyer, Mr. Harvey', 'Name_Collyer, Mrs. Harvey (Charlotte Annie Tate)', 'Name_Compton, Miss. Sara Rebecca', 'Name_Connaghton, Mr. Michael', 'Name_Connolly, Miss. Kate', 'Name_Connors, Mr. Patrick', 'Name_Cook, Mr. Jacob', 'Name_Cor, Mr. Liudevit', 'Name_Corn, Mr. Harry', 'Name_Coutts, Master. Eden Leslie \"Neville\"', 'Name_Coutts, Master. William Loch \"William\"', 'Name_Coxon, Mr. Daniel', 'Name_Crease, Mr. Ernest James', 'Name_Cribb, Mr. John Hatfield', 'Name_Crosby, Capt. Edward Gifford', 'Name_Crosby, Miss. Harriet R', 'Name_Culumovic, Mr. Jeso', 'Name_Cumings, Mrs. John Bradley (Florence Briggs Thayer)', 'Name_Cunningham, Mr. Alfred Fleming', 'Name_Dahl, Mr. Karl Edwart', 'Name_Dahlberg, Miss. Gerda Ulrika', 'Name_Dakic, Mr. Branko', 'Name_Daly, Mr. Eugene Patrick', 'Name_Daly, Mr. Peter Denis ', 'Name_Danbom, Mr. Ernst Gilbert', 'Name_Danbom, Mrs. Ernst Gilbert (Anna Sigrid Maria Brogren)', 'Name_Daniel, Mr. Robert Williams', 'Name_Danoff, Mr. Yoto', 'Name_Dantcheff, Mr. Ristiu', 'Name_Davidson, Mr. Thornton', 'Name_Davies, Master. John Morgan Jr', 'Name_Davies, Mr. Alfred J', 'Name_Davies, Mr. Charles Henry', 'Name_Davis, Miss. Mary', 'Name_Davison, Mrs. Thomas Henry (Mary E Finck)', 'Name_Dean, Master. Bertram Vere', 'Name_Dean, Mr. Bertram Frank', 'Name_Denkoff, Mr. Mitto', 'Name_Dennis, Mr. Samuel', 'Name_Devaney, Miss. Margaret Delia', 'Name_Dick, Mr. Albert Adrian', 'Name_Dick, Mrs. Albert Adrian (Vera Gillespie)', 'Name_Dimic, Mr. Jovan', 'Name_Dodge, Master. Washington', 'Name_Doharr, Mr. Tannous', 'Name_Doling, Miss. Elsie', 'Name_Doling, Mrs. John T (Ada Julia Bone)', 'Name_Dooley, Mr. Patrick', 'Name_Dorking, Mr. Edward Arthur', 'Name_Douglas, Mr. Walter Donald', 'Name_Dowdell, Miss. Elizabeth', 'Name_Downton, Mr. William James', 'Name_Drazenoic, Mr. Jozef', 'Name_Drew, Mrs. James Vivian (Lulu Thorne Christian)', 'Name_Duane, Mr. Frank', 'Name_Duff Gordon, Lady. (Lucille Christiana Sutherland) (\"Mrs Morgan\")', 'Name_Duff Gordon, Sir. Cosmo Edmund (\"Mr Morgan\")', 'Name_Duran y More, Miss. Asuncion', 'Name_Edvardsson, Mr. Gustaf Hjalmar', 'Name_Eitemiller, Mr. George Floyd', 'Name_Eklund, Mr. Hans Linus', 'Name_Ekstrom, Mr. Johan', 'Name_Elias, Mr. Dibo', 'Name_Elias, Mr. Joseph Jr', 'Name_Elias, Mr. Tannous', 'Name_Elsbury, Mr. William James', 'Name_Emanuel, Miss. Virginia Ethel', 'Name_Emir, Mr. Farred Chehab', 'Name_Endres, Miss. Caroline Louise', 'Name_Eustis, Miss. Elizabeth Mussey', 'Name_Fahlstrom, Mr. Arne Jonas', 'Name_Farrell, Mr. James', 'Name_Farthing, Mr. John', 'Name_Faunthorpe, Mrs. Lizzie (Elizabeth Anne Wilkinson)', 'Name_Fischer, Mr. Eberhard Thelander', 'Name_Fleming, Miss. Margaret', 'Name_Flynn, Mr. James', 'Name_Flynn, Mr. John', 'Name_Flynn, Mr. John Irwin (\"Irving\")', 'Name_Foo, Mr. Choong', 'Name_Ford, Miss. Doolina Margaret \"Daisy\"', 'Name_Ford, Miss. Robina Maggie \"Ruby\"', 'Name_Ford, Mr. William Neal', 'Name_Ford, Mrs. Edward (Margaret Ann Watson)', 'Name_Foreman, Mr. Benjamin Laventall', 'Name_Fortune, Miss. Alice Elizabeth', 'Name_Fortune, Miss. Mabel Helen', 'Name_Fortune, Mr. Charles Alexander', 'Name_Fortune, Mr. Mark', 'Name_Fox, Mr. Stanley Hubert', 'Name_Francatelli, Miss. Laura Mabel', 'Name_Frauenthal, Dr. Henry William', 'Name_Frauenthal, Mrs. Henry William (Clara Heinsheimer)', 'Name_Frolicher, Miss. Hedwig Margaritha', 'Name_Frolicher-Stehli, Mr. Maxmillian', 'Name_Frost, Mr. Anthony Wood \"Archie\"', 'Name_Fry, Mr. Richard', 'Name_Funk, Miss. Annie Clemmer', 'Name_Futrelle, Mr. Jacques Heath', 'Name_Futrelle, Mrs. Jacques Heath (Lily May Peel)', 'Name_Fynney, Mr. Joseph J', 'Name_Gale, Mr. Shadrach', 'Name_Gallagher, Mr. Martin', 'Name_Garfirth, Mr. John', 'Name_Garside, Miss. Ethel', 'Name_Gaskell, Mr. Alfred', 'Name_Gavey, Mr. Lawrence', 'Name_Gee, Mr. Arthur H', 'Name_Gheorgheff, Mr. Stanio', 'Name_Giglio, Mr. Victor', 'Name_Giles, Mr. Frederick Edward', 'Name_Gilinski, Mr. Eliezer', 'Name_Gill, Mr. John William', 'Name_Gillespie, Mr. William Henry', 'Name_Gilnagh, Miss. Katherine \"Katie\"', 'Name_Givard, Mr. Hans Kristensen', 'Name_Glynn, Miss. Mary Agatha', 'Name_Goldenberg, Mr. Samuel L', 'Name_Goldenberg, Mrs. Samuel L (Edwiga Grabowska)', 'Name_Goldschmidt, Mr. George B', 'Name_Goldsmith, Master. Frank John William \"Frankie\"', 'Name_Goldsmith, Mr. Frank John', 'Name_Goldsmith, Mrs. Frank John (Emily Alice Brown)', 'Name_Goncalves, Mr. Manuel Estanslas', 'Name_Goodwin, Master. Harold Victor', 'Name_Goodwin, Master. Sidney Leonard', 'Name_Goodwin, Master. William Frederick', 'Name_Goodwin, Miss. Lillian Amy', 'Name_Goodwin, Mr. Charles Edward', 'Name_Goodwin, Mrs. Frederick (Augusta Tyler)', 'Name_Graham, Miss. Margaret Edith', 'Name_Graham, Mr. George Edward', 'Name_Graham, Mrs. William Thompson (Edith Junkins)', 'Name_Green, Mr. George Henry', 'Name_Greenberg, Mr. Samuel', 'Name_Greenfield, Mr. William Bertram', 'Name_Gronnestad, Mr. Daniel Danielsen', 'Name_Guggenheim, Mr. Benjamin', 'Name_Gustafsson, Mr. Alfred Ossian', 'Name_Gustafsson, Mr. Anders Vilhelm', 'Name_Gustafsson, Mr. Johan Birger', 'Name_Gustafsson, Mr. Karl Gideon', 'Name_Haas, Miss. Aloisia', 'Name_Hagland, Mr. Ingvald Olai Olsen', 'Name_Hagland, Mr. Konrad Mathias Reiersen', 'Name_Hakkarainen, Mr. Pekka Pietari', 'Name_Hakkarainen, Mrs. Pekka Pietari (Elin Matilda Dolck)', 'Name_Hale, Mr. Reginald', 'Name_Hamalainen, Master. Viljo', 'Name_Hamalainen, Mrs. William (Anna)', 'Name_Hampe, Mr. Leon', 'Name_Hanna, Mr. Mansour', 'Name_Hansen, Mr. Claus Peter', 'Name_Hansen, Mr. Henrik Juul', 'Name_Hansen, Mr. Henry Damsgaard', 'Name_Harder, Mr. George Achilles', 'Name_Harknett, Miss. Alice Phoebe', 'Name_Harmer, Mr. Abraham (David Lishin)', 'Name_Harper, Miss. Annie Jessie \"Nina\"', 'Name_Harper, Mr. Henry Sleeper', 'Name_Harper, Mrs. Henry Sleeper (Myna Haxtun)', 'Name_Harper, Rev. John', 'Name_Harrington, Mr. Charles H', 'Name_Harris, Mr. George', 'Name_Harris, Mr. Henry Birkhardt', 'Name_Harris, Mr. Walter', 'Name_Harris, Mrs. Henry Birkhardt (Irene Wallach)', 'Name_Harrison, Mr. William', 'Name_Hart, Miss. Eva Miriam', 'Name_Hart, Mr. Benjamin', 'Name_Hart, Mr. Henry', 'Name_Hart, Mrs. Benjamin (Esther Ada Bloomfield)', 'Name_Hassab, Mr. Hammad', 'Name_Hassan, Mr. Houssein G N', 'Name_Hawksford, Mr. Walter James', 'Name_Hays, Miss. Margaret Bechstein', 'Name_Hays, Mrs. Charles Melville (Clara Jennings Gregg)', 'Name_Healy, Miss. Hanora \"Nora\"', 'Name_Hedman, Mr. Oskar Arvid', 'Name_Hegarty, Miss. Hanora \"Nora\"', 'Name_Heikkinen, Miss. Laina', 'Name_Heininen, Miss. Wendla Maria', 'Name_Hendekovic, Mr. Ignjac', 'Name_Henry, Miss. Delia', 'Name_Herman, Miss. Alice', 'Name_Herman, Mrs. Samuel (Jane Laver)', 'Name_Hewlett, Mrs. (Mary D Kingcome) ', 'Name_Hickman, Mr. Leonard Mark', 'Name_Hickman, Mr. Lewis', 'Name_Hickman, Mr. Stanley George', 'Name_Hippach, Miss. Jean Gertrude', 'Name_Hippach, Mrs. Louis Albert (Ida Sophia Fischer)', 'Name_Hirvonen, Miss. Hildur E', 'Name_Hocking, Mr. Richard George', 'Name_Hocking, Mrs. Elizabeth (Eliza Needs)', 'Name_Hodges, Mr. Henry Price', 'Name_Hogeboom, Mrs. John C (Anna Andrews)', 'Name_Hold, Mr. Stephen', 'Name_Holm, Mr. John Fredrik Alexander', 'Name_Holverson, Mr. Alexander Oskar', 'Name_Holverson, Mrs. Alexander Oskar (Mary Aline Towner)', 'Name_Homer, Mr. Harry (\"Mr E Haven\")', 'Name_Honkanen, Miss. Eliina', 'Name_Hood, Mr. Ambrose Jr', 'Name_Horgan, Mr. John', 'Name_Hosono, Mr. Masabumi', 'Name_Hoyt, Mr. Frederick Maxfield', 'Name_Hoyt, Mr. William Fisher', 'Name_Hoyt, Mrs. Frederick Maxfield (Jane Anne Forby)', 'Name_Humblen, Mr. Adolf Mathias Nicolai Olsen', 'Name_Hunt, Mr. George Henry', 'Name_Ibrahim Shawah, Mr. Yousseff', 'Name_Icard, Miss. Amelie', 'Name_Ilett, Miss. Bertha', 'Name_Ilmakangas, Miss. Pieta Sofia', 'Name_Isham, Miss. Ann Elizabeth', 'Name_Ivanoff, Mr. Kanio', 'Name_Jacobsohn, Mr. Sidney Samuel', 'Name_Jacobsohn, Mrs. Sidney Samuel (Amy Frances Christy)', 'Name_Jalsevac, Mr. Ivan', 'Name_Jansson, Mr. Carl Olof', 'Name_Jardin, Mr. Jose Neto', 'Name_Jarvis, Mr. John Denzil', 'Name_Jenkin, Mr. Stephen Curnow', 'Name_Jensen, Mr. Hans Peder', 'Name_Jensen, Mr. Niels Peder', 'Name_Jensen, Mr. Svend Lauritz', 'Name_Jermyn, Miss. Annie', 'Name_Jerwan, Mrs. Amin S (Marie Marthe Thuillard)', 'Name_Johannesen-Bratthammer, Mr. Bernt', 'Name_Johanson, Mr. Jakob Alfred', 'Name_Johansson, Mr. Erik', 'Name_Johansson, Mr. Gustaf Joel', 'Name_Johansson, Mr. Karl Johan', 'Name_Johnson, Master. Harold Theodor', 'Name_Johnson, Miss. Eleanor Ileen', 'Name_Johnson, Mr. Alfred', 'Name_Johnson, Mr. Malkolm Joackim', 'Name_Johnson, Mr. William Cahoone Jr', 'Name_Johnson, Mrs. Oscar W (Elisabeth Vilhelmina Berg)', 'Name_Johnston, Miss. Catherine Helen \"Carrie\"', 'Name_Johnston, Mr. Andrew G', 'Name_Jonkoff, Mr. Lalio', 'Name_Jonsson, Mr. Carl', 'Name_Jussila, Miss. Katriina', 'Name_Jussila, Miss. Mari Aina', 'Name_Jussila, Mr. Eiriik', 'Name_Kallio, Mr. Nikolai Erland', 'Name_Kalvik, Mr. Johannes Halvorsen', 'Name_Kantor, Mr. Sinai', 'Name_Kantor, Mrs. Sinai (Miriam Sternin)', 'Name_Karaic, Mr. Milan', 'Name_Karlsson, Mr. Nils August', 'Name_Karun, Miss. Manca', 'Name_Kassem, Mr. Fared', 'Name_Keane, Miss. Nora A', 'Name_Keane, Mr. Andrew \"Andy\"', 'Name_Keefe, Mr. Arthur', 'Name_Kelly, Miss. Anna Katherine \"Annie Kate\"', 'Name_Kelly, Miss. Mary', 'Name_Kelly, Mr. James', 'Name_Kelly, Mrs. Florence \"Fannie\"', 'Name_Kent, Mr. Edward Austin', 'Name_Kenyon, Mrs. Frederick R (Marion)', 'Name_Kiernan, Mr. Philip', 'Name_Kilgannon, Mr. Thomas J', 'Name_Kimball, Mr. Edwin Nelson Jr', 'Name_Kink, Mr. Vincenz', 'Name_Kink-Heilmann, Miss. Luise Gretchen', 'Name_Kirkland, Rev. Charles Leonard', 'Name_Klaber, Mr. Herman', 'Name_Klasen, Mr. Klas Albin', 'Name_Knight, Mr. Robert J', 'Name_Kraeff, Mr. Theodor', 'Name_Kvillner, Mr. Johan Henrik Johannesson', 'Name_Lahoud, Mr. Sarkis', 'Name_Lahtinen, Mrs. William (Anna Sylfven)', 'Name_Laitinen, Miss. Kristina Sofia', 'Name_Laleff, Mr. Kristo', 'Name_Lam, Mr. Ali', 'Name_Lam, Mr. Len', 'Name_Landergren, Miss. Aurora Adelia', 'Name_Lang, Mr. Fang', 'Name_Laroche, Miss. Simonne Marie Anne Andree', 'Name_Laroche, Mr. Joseph Philippe Lemercier', 'Name_Laroche, Mrs. Joseph (Juliette Marie Louise Lafargue)', 'Name_Larsson, Mr. August Viktor', 'Name_Larsson, Mr. Bengt Edvin', 'Name_LeRoy, Miss. Bertha', 'Name_Leader, Dr. Alice (Farnham)', 'Name_Leeni, Mr. Fahim (\"Philip Zenni\")', 'Name_Lefebre, Master. Henry Forbes', 'Name_Lefebre, Miss. Ida', 'Name_Lefebre, Miss. Jeannie', 'Name_Lefebre, Miss. Mathilde', 'Name_Lehmann, Miss. Bertha', 'Name_Leinonen, Mr. Antti Gustaf', 'Name_Leitch, Miss. Jessie Wills', 'Name_Lemberopolous, Mr. Peter L', 'Name_Lemore, Mrs. (Amelia Milley)', 'Name_Lennon, Mr. Denis', 'Name_Leonard, Mr. Lionel', 'Name_Lester, Mr. James', 'Name_Lesurer, Mr. Gustave J', 'Name_Levy, Mr. Rene Jacques', 'Name_Lewy, Mr. Ervin G', 'Name_Leyson, Mr. Robert William Norman', 'Name_Lievens, Mr. Rene Aime', 'Name_Lindahl, Miss. Agda Thorilda Viktoria', 'Name_Lindblom, Miss. Augusta Charlotta', 'Name_Lindell, Mr. Edvard Bengtsson', 'Name_Lindqvist, Mr. Eino William', 'Name_Lines, Miss. Mary Conover', 'Name_Ling, Mr. Lee', 'Name_Lobb, Mr. William Arthur', 'Name_Lobb, Mrs. William Arthur (Cordelia K Stanlick)', 'Name_Long, Mr. Milton Clyde', 'Name_Longley, Miss. Gretchen Fiske', 'Name_Louch, Mrs. Charles Alexander (Alice Adelaide Slow)', 'Name_Lovell, Mr. John Hall (\"Henry\")', 'Name_Lulic, Mr. Nikola', 'Name_Lundahl, Mr. Johan Svensson', 'Name_Lurette, Miss. Elise', 'Name_Mack, Mrs. (Mary)', 'Name_Madigan, Miss. Margaret \"Maggie\"', 'Name_Madill, Miss. Georgette Alexandra', 'Name_Madsen, Mr. Fridtjof Arne', 'Name_Maenpaa, Mr. Matti Alexanteri', 'Name_Maioni, Miss. Roberta', 'Name_Maisner, Mr. Simon', 'Name_Mallet, Master. Andre', 'Name_Mallet, Mr. Albert', 'Name_Mamee, Mr. Hanna', 'Name_Mangan, Miss. Mary', 'Name_Mannion, Miss. Margareth', 'Name_Marechal, Mr. Pierre', 'Name_Markoff, Mr. Marin', 'Name_Markun, Mr. Johann', 'Name_Marvin, Mr. Daniel Warner', 'Name_Masselmani, Mrs. Fatima', 'Name_Matthews, Mr. William John', 'Name_Mayne, Mlle. Berthe Antonine (\"Mrs de Villiers\")', 'Name_McCarthy, Mr. Timothy J', 'Name_McCormack, Mr. Thomas Joseph', 'Name_McCoy, Miss. Agnes', 'Name_McCoy, Mr. Bernard', 'Name_McDermott, Miss. Brigdet Delia', 'Name_McEvoy, Mr. Michael', 'Name_McGough, Mr. James Robert', 'Name_McGovern, Miss. Mary', 'Name_McGowan, Miss. Anna \"Annie\"', 'Name_McKane, Mr. Peter David', 'Name_McMahon, Mr. Martin', 'Name_McNamee, Mr. Neal', 'Name_Meanwell, Miss. (Marion Ogden)', 'Name_Meek, Mrs. Thomas (Annie Louise Rowley)', 'Name_Mellinger, Miss. Madeleine Violet', 'Name_Mellinger, Mrs. (Elizabeth Anne Maidment)', 'Name_Mellors, Mr. William John', 'Name_Meo, Mr. Alfonzo', 'Name_Mernagh, Mr. Robert', 'Name_Meyer, Mr. August', 'Name_Meyer, Mr. Edgar Joseph', 'Name_Meyer, Mrs. Edgar Joseph (Leila Saks)', 'Name_Millet, Mr. Francis Davis', 'Name_Milling, Mr. Jacob Christian', 'Name_Minahan, Dr. William Edward', 'Name_Minahan, Miss. Daisy E', 'Name_Mineff, Mr. Ivan', 'Name_Mionoff, Mr. Stoytcho', 'Name_Mitchell, Mr. Henry Michael', 'Name_Mitkoff, Mr. Mito', 'Name_Mockler, Miss. Helen Mary \"Ellie\"', 'Name_Moen, Mr. Sigurd Hansen', 'Name_Molson, Mr. Harry Markland', 'Name_Montvila, Rev. Juozas', 'Name_Moor, Master. Meier', 'Name_Moor, Mrs. (Beila)', 'Name_Moore, Mr. Leonard Charles', 'Name_Moran, Miss. Bertha', 'Name_Moran, Mr. Daniel J', 'Name_Moran, Mr. James', 'Name_Moraweck, Dr. Ernest', 'Name_Morley, Mr. Henry Samuel (\"Mr Henry Marshall\")', 'Name_Morley, Mr. William', 'Name_Morrow, Mr. Thomas Rowan', 'Name_Moss, Mr. Albert Johan', 'Name_Moubarek, Master. Gerios', 'Name_Moubarek, Master. Halim Gonios (\"William George\")', 'Name_Moussa, Mrs. (Mantoura Boulos)', 'Name_Moutal, Mr. Rahamin Haim', 'Name_Mudd, Mr. Thomas Charles', 'Name_Mullens, Miss. Katherine \"Katie\"', 'Name_Murdlin, Mr. Joseph', 'Name_Murphy, Miss. Katherine \"Kate\"', 'Name_Murphy, Miss. Margaret Jane', 'Name_Myhrman, Mr. Pehr Fabian Oliver Malkolm', 'Name_Naidenoff, Mr. Penko', 'Name_Najib, Miss. Adele Kiamie \"Jane\"', 'Name_Nakid, Miss. Maria (\"Mary\")', 'Name_Nakid, Mr. Sahid', 'Name_Nankoff, Mr. Minko', 'Name_Nasser, Mr. Nicholas', 'Name_Nasser, Mrs. Nicholas (Adele Achem)', 'Name_Natsch, Mr. Charles H', 'Name_Navratil, Master. Edmond Roger', 'Name_Navratil, Master. Michel M', 'Name_Navratil, Mr. Michel (\"Louis M Hoffman\")', 'Name_Nenkoff, Mr. Christo', 'Name_Newell, Miss. Madeleine', 'Name_Newell, Miss. Marjorie', 'Name_Newell, Mr. Arthur Webster', 'Name_Newsom, Miss. Helen Monypeny', 'Name_Nicholls, Mr. Joseph Charles', 'Name_Nicholson, Mr. Arthur Ernest', 'Name_Nicola-Yarred, Master. Elias', 'Name_Nicola-Yarred, Miss. Jamila', 'Name_Nilsson, Miss. Helmina Josefina', 'Name_Nirva, Mr. Iisakki Antino Aijo', 'Name_Niskanen, Mr. Juha', 'Name_Norman, Mr. Robert Douglas', 'Name_Nosworthy, Mr. Richard Cater', 'Name_Novel, Mr. Mansouer', 'Name_Nye, Mrs. (Elizabeth Ramell)', 'Name_Nysten, Miss. Anna Sofia', 'Name_Nysveen, Mr. Johan Hansen', \"Name_O'Brien, Mr. Thomas\", \"Name_O'Brien, Mr. Timothy\", 'Name_O\\'Brien, Mrs. Thomas (Johanna \"Hannah\" Godfrey)', \"Name_O'Connell, Mr. Patrick D\", \"Name_O'Connor, Mr. Maurice\", \"Name_O'Driscoll, Miss. Bridget\", 'Name_O\\'Dwyer, Miss. Ellen \"Nellie\"', 'Name_O\\'Leary, Miss. Hanora \"Norah\"', \"Name_O'Sullivan, Miss. Bridget Mary\", 'Name_Odahl, Mr. Nils Martin', 'Name_Ohman, Miss. Velin', 'Name_Olsen, Mr. Henry Margido', 'Name_Olsen, Mr. Karl Siegwart Andreas', 'Name_Olsen, Mr. Ole Martin', 'Name_Olsson, Miss. Elina', 'Name_Olsson, Mr. Nils Johan Goransson', 'Name_Olsvigen, Mr. Thor Anderson', 'Name_Oreskovic, Miss. Marija', 'Name_Oreskovic, Mr. Luka', 'Name_Osen, Mr. Olaf Elon', 'Name_Osman, Mrs. Mara', 'Name_Ostby, Mr. Engelhart Cornelius', 'Name_Otter, Mr. Richard', 'Name_Padro y Manent, Mr. Julian', 'Name_Pain, Dr. Alfred', 'Name_Palsson, Master. Gosta Leonard', 'Name_Palsson, Miss. Stina Viola', 'Name_Palsson, Miss. Torborg Danira', 'Name_Palsson, Mrs. Nils (Alma Cornelia Berglund)', 'Name_Panula, Master. Eino Viljami', 'Name_Panula, Master. Juha Niilo', 'Name_Panula, Master. Urho Abraham', 'Name_Panula, Mr. Ernesti Arvid', 'Name_Panula, Mr. Jaako Arnold', 'Name_Panula, Mrs. Juha (Maria Emilia Ojala)', 'Name_Parkes, Mr. Francis \"Frank\"', 'Name_Parr, Mr. William Henry Marsh', 'Name_Parrish, Mrs. (Lutie Davis)', 'Name_Partner, Mr. Austen', 'Name_Pasic, Mr. Jakob', 'Name_Patchett, Mr. George', 'Name_Paulner, Mr. Uscher', 'Name_Pavlovic, Mr. Stefo', 'Name_Pears, Mr. Thomas Clinton', 'Name_Pears, Mrs. Thomas (Edith Wearne)', 'Name_Peduzzi, Mr. Joseph', 'Name_Pekoniemi, Mr. Edvard', 'Name_Penasco y Castellana, Mr. Victor de Satode', 'Name_Penasco y Castellana, Mrs. Victor de Satode (Maria Josefa Perez de Soto y Vallejo)', 'Name_Pengelly, Mr. Frederick William', 'Name_Perkin, Mr. John Henry', 'Name_Pernot, Mr. Rene', 'Name_Perreault, Miss. Anne', 'Name_Persson, Mr. Ernst Ulrik', 'Name_Peter, Miss. Anna', 'Name_Peter, Mrs. Catherine (Catherine Rizk)', 'Name_Peters, Miss. Katie', 'Name_Petranec, Miss. Matilda', 'Name_Petroff, Mr. Nedelio', 'Name_Petroff, Mr. Pastcho (\"Pentcho\")', 'Name_Petterson, Mr. Johan Emil', 'Name_Pettersson, Miss. Ellen Natalia', 'Name_Peuchen, Major. Arthur Godfrey', 'Name_Phillips, Miss. Kate Florence (\"Mrs Kate Louise Phillips Marshall\")', 'Name_Pickard, Mr. Berk (Berk Trembisky)', 'Name_Pinsky, Mrs. (Rosa)', 'Name_Plotcharsky, Mr. Vasil', 'Name_Ponesell, Mr. Martin', 'Name_Porter, Mr. Walter Chamberlain', 'Name_Potter, Mrs. Thomas Jr (Lily Alexenia Wilson)', 'Name_Quick, Miss. Phyllis May', 'Name_Quick, Mrs. Frederick Charles (Jane Richards)', 'Name_Radeff, Mr. Alexander', 'Name_Razi, Mr. Raihed', 'Name_Reed, Mr. James George', 'Name_Reeves, Mr. David', 'Name_Rekic, Mr. Tido', 'Name_Renouf, Mr. Peter Henry', 'Name_Renouf, Mrs. Peter Henry (Lillian Jefferys)', 'Name_Reuchlin, Jonkheer. John George', 'Name_Reynaldo, Ms. Encarnacion', 'Name_Rice, Master. Arthur', 'Name_Rice, Master. Eric', 'Name_Rice, Master. Eugene', 'Name_Rice, Master. George Hugh', 'Name_Rice, Mrs. William (Margaret Norton)', 'Name_Richard, Mr. Emile', 'Name_Richards, Master. George Sibley', 'Name_Richards, Master. William Rowe', 'Name_Richards, Mrs. Sidney (Emily Hocking)', 'Name_Ridsdale, Miss. Lucy', 'Name_Ringhini, Mr. Sante', 'Name_Rintamaki, Mr. Matti', 'Name_Risien, Mr. Samuel Beard', 'Name_Robbins, Mr. Victor', 'Name_Robert, Mrs. Edward Scott (Elisabeth Walton McMillan)', 'Name_Robins, Mrs. Alexander A (Grace Charity Laury)', 'Name_Roebling, Mr. Washington Augustus II', 'Name_Rogers, Mr. William John', 'Name_Romaine, Mr. Charles Hallace (\"Mr C Rolmane\")', 'Name_Rommetvedt, Mr. Knud Paust', 'Name_Rood, Mr. Hugh Roscoe', 'Name_Rosblom, Mr. Viktor Richard', 'Name_Rosblom, Mrs. Viktor (Helena Wilhelmina)', 'Name_Ross, Mr. John Hugo', 'Name_Rothes, the Countess. of (Lucy Noel Martha Dyer-Edwards)', 'Name_Rothschild, Mrs. Martin (Elizabeth L. Barrett)', 'Name_Rouse, Mr. Richard Henry', 'Name_Rugg, Miss. Emily', 'Name_Rush, Mr. Alfred George John', 'Name_Ryan, Mr. Patrick', 'Name_Ryerson, Miss. Emily Borie', 'Name_Ryerson, Miss. Susan Parker \"Suzette\"', 'Name_Saad, Mr. Amin', 'Name_Saad, Mr. Khalil', 'Name_Saalfeld, Mr. Adolphe', 'Name_Sadlier, Mr. Matthew', 'Name_Sage, Master. Thomas Henry', 'Name_Sage, Miss. Constance Gladys', 'Name_Sage, Miss. Dorothy Edith \"Dolly\"', 'Name_Sage, Miss. Stella Anna', 'Name_Sage, Mr. Douglas Bullen', 'Name_Sage, Mr. Frederick', 'Name_Sage, Mr. George John Jr', 'Name_Sagesser, Mlle. Emma', 'Name_Salkjelsvik, Miss. Anna Kristine', 'Name_Salonen, Mr. Johan Werner', 'Name_Samaan, Mr. Youssef', 'Name_Sandstrom, Miss. Marguerite Rut', 'Name_Sandstrom, Mrs. Hjalmar (Agnes Charlotta Bengtsson)', 'Name_Saundercock, Mr. William Henry', 'Name_Sawyer, Mr. Frederick Charles', 'Name_Scanlan, Mr. James', 'Name_Sdycoff, Mr. Todor', 'Name_Sedgwick, Mr. Charles Frederick Waddington', 'Name_Serepeca, Miss. Augusta', 'Name_Seward, Mr. Frederic Kimber', 'Name_Sharp, Mr. Percival James R', 'Name_Sheerlinck, Mr. Jan Baptist', 'Name_Shellard, Mr. Frederick William', 'Name_Shelley, Mrs. William (Imanita Parrish Hall)', 'Name_Shorney, Mr. Charles Joseph', 'Name_Shutes, Miss. Elizabeth W', 'Name_Silven, Miss. Lyyli Karoliina', 'Name_Silverthorne, Mr. Spencer Victor', 'Name_Silvey, Mr. William Baird', 'Name_Silvey, Mrs. William Baird (Alice Munger)', 'Name_Simmons, Mr. John', 'Name_Simonius-Blumer, Col. Oberst Alfons', 'Name_Sinkkonen, Miss. Anna', 'Name_Sirayanian, Mr. Orsen', 'Name_Sirota, Mr. Maurice', 'Name_Sivic, Mr. Husein', 'Name_Sivola, Mr. Antti Wilhelm', 'Name_Sjoblom, Miss. Anna Sofia', 'Name_Sjostedt, Mr. Ernst Adolf', 'Name_Skoog, Master. Harald', 'Name_Skoog, Master. Karl Thorsten', 'Name_Skoog, Miss. Mabel', 'Name_Skoog, Miss. Margit Elizabeth', 'Name_Skoog, Mr. Wilhelm', 'Name_Skoog, Mrs. William (Anna Bernhardina Karlsson)', 'Name_Slabenoff, Mr. Petco', 'Name_Slayter, Miss. Hilda Mary', 'Name_Slemen, Mr. Richard James', 'Name_Slocovski, Mr. Selman Francis', 'Name_Sloper, Mr. William Thompson', 'Name_Smart, Mr. John Montgomery', 'Name_Smiljanic, Mr. Mile', 'Name_Smith, Miss. Marion Elsie', 'Name_Smith, Mr. James Clinch', 'Name_Smith, Mr. Richard William', 'Name_Smith, Mr. Thomas', 'Name_Sobey, Mr. Samuel James Hayden', 'Name_Soholt, Mr. Peter Andreas Lauritz Andersen', 'Name_Somerton, Mr. Francis William', 'Name_Spedden, Mrs. Frederic Oakley (Margaretta Corning Stone)', 'Name_Spencer, Mrs. William Augustus (Marie Eugenie)', 'Name_Stahelin-Maeglin, Dr. Max', 'Name_Staneff, Mr. Ivan', 'Name_Stankovic, Mr. Ivan', 'Name_Stanley, Miss. Amy Zillah Elsie', 'Name_Stanley, Mr. Edward Roland', 'Name_Stead, Mr. William Thomas', 'Name_Stephenson, Mrs. Walter Bertram (Martha Eustis)', 'Name_Stewart, Mr. Albert A', 'Name_Stone, Mrs. George Nelson (Martha Evelyn)', 'Name_Stoytcheff, Mr. Ilia', 'Name_Strandberg, Miss. Ida Sofia', 'Name_Stranden, Mr. Juho', 'Name_Strom, Miss. Telma Matilda', 'Name_Strom, Mrs. Wilhelm (Elna Matilda Persson)', 'Name_Sunderland, Mr. Victor Francis', 'Name_Sundman, Mr. Johan Julian', 'Name_Sutehall, Mr. Henry Jr', 'Name_Sutton, Mr. Frederick', 'Name_Svensson, Mr. Johan', 'Name_Svensson, Mr. Olof', 'Name_Swift, Mrs. Frederick Joel (Margaret Welles Barron)', 'Name_Taussig, Miss. Ruth', 'Name_Taussig, Mr. Emil', 'Name_Taussig, Mrs. Emil (Tillie Mandelbaum)', 'Name_Taylor, Mr. Elmer Zebley', 'Name_Taylor, Mrs. Elmer Zebley (Juliet Cummins Wright)', 'Name_Thayer, Mr. John Borland', 'Name_Thayer, Mr. John Borland Jr', 'Name_Thayer, Mrs. John Borland (Marian Longstreth Morris)', 'Name_Theobald, Mr. Thomas Leonard', 'Name_Thomas, Master. Assad Alexander', 'Name_Thorne, Mrs. Gertrude Maybelle', 'Name_Thorneycroft, Mr. Percival', 'Name_Thorneycroft, Mrs. Percival (Florence Kate White)', 'Name_Tikkanen, Mr. Juho', 'Name_Tobin, Mr. Roger', 'Name_Todoroff, Mr. Lalio', 'Name_Tomlin, Mr. Ernest Portage', 'Name_Toomey, Miss. Ellen', 'Name_Torber, Mr. Ernst William', 'Name_Tornquist, Mr. William Henry', 'Name_Toufik, Mr. Nakli', 'Name_Touma, Mrs. Darwis (Hanne Youssef Razi)', 'Name_Troupiansky, Mr. Moses Aaron', 'Name_Trout, Mrs. William H (Jessie L)', 'Name_Troutt, Miss. Edwina Celia \"Winnie\"', 'Name_Turcin, Mr. Stjepan', 'Name_Turja, Miss. Anna Sofia', 'Name_Turkula, Mrs. (Hedwig)', 'Name_Turpin, Mr. William John Robert', 'Name_Turpin, Mrs. William John Robert (Dorothy Ann Wonnacott)', 'Name_Uruchurtu, Don. Manuel E', 'Name_Van Impe, Miss. Catharina', 'Name_Van Impe, Mr. Jean Baptiste', 'Name_Van Impe, Mrs. Jean Baptiste (Rosalie Paula Govaert)', 'Name_Van der hoef, Mr. Wyckoff', 'Name_Vande Velde, Mr. Johannes Joseph', 'Name_Vande Walle, Mr. Nestor Cyriel', 'Name_Vanden Steen, Mr. Leo Peter', 'Name_Vander Cruyssen, Mr. Victor', 'Name_Vander Planke, Miss. Augusta Maria', 'Name_Vander Planke, Mr. Leo Edmondus', 'Name_Vander Planke, Mrs. Julius (Emelia Maria Vandemoortele)', 'Name_Vestrom, Miss. Hulda Amanda Adolfina', 'Name_Vovk, Mr. Janko', 'Name_Waelens, Mr. Achille', 'Name_Walker, Mr. William Anderson', 'Name_Ward, Miss. Anna', 'Name_Warren, Mrs. Frank Manley (Anna Sophia Atkinson)', 'Name_Watson, Mr. Ennis Hastings', 'Name_Watt, Mrs. James (Elizabeth \"Bessie\" Inglis Milne)', 'Name_Webber, Miss. Susan', 'Name_Webber, Mr. James', 'Name_Weir, Col. John', 'Name_Weisz, Mrs. Leopold (Mathilde Francoise Pede)', 'Name_Wells, Miss. Joan', 'Name_West, Miss. Constance Mirium', 'Name_West, Mr. Edwy Arthur', 'Name_West, Mrs. Edwy Arthur (Ada Mary Worth)', 'Name_Wheadon, Mr. Edward H', 'Name_White, Mr. Percival Wayland', 'Name_White, Mr. Richard Frasar', 'Name_Wick, Miss. Mary Natalie', 'Name_Wick, Mrs. George Dennick (Mary Hitchcock)', 'Name_Widegren, Mr. Carl/Charles Peter', 'Name_Widener, Mr. Harry Elkins', 'Name_Wiklund, Mr. Jakob Alfred', 'Name_Wilhelms, Mr. Charles', 'Name_Willey, Mr. Edward', 'Name_Williams, Mr. Charles Duane', 'Name_Williams, Mr. Charles Eugene', 'Name_Williams, Mr. Howard Hugh \"Harry\"', 'Name_Williams, Mr. Leslie', 'Name_Williams-Lambert, Mr. Fletcher Fellows', 'Name_Windelov, Mr. Einar', 'Name_Wiseman, Mr. Phillippe', 'Name_Woolner, Mr. Hugh', 'Name_Wright, Mr. George', 'Name_Yasbeck, Mr. Antoni', 'Name_Yasbeck, Mrs. Antoni (Selini Alexander)', 'Name_Young, Miss. Marie Grice', 'Name_Youseff, Mr. Gerious', 'Name_Yousif, Mr. Wazli', 'Name_Yousseff, Mr. Gerious', 'Name_Yrois, Miss. Henriette (\"Mrs Harbeck\")', 'Name_Zabour, Miss. Hileni', 'Name_Zabour, Miss. Thamine', 'Name_Zimmerman, Mr. Leo', 'Name_de Messemaeker, Mrs. Guillaume Joseph (Emma)', 'Name_de Mulder, Mr. Theodore', 'Name_de Pelsmaeker, Mr. Alfons', 'Name_del Carlo, Mr. Sebastiano', 'Name_van Billiard, Mr. Austin Blyler', 'Name_van Melkebeke, Mr. Philemon', 'Sex_male', 'Age_38.0', 'Age_26.0', 'Age_35.0', 'Age_<bound method Series.mean of 0      22.0\\n1      38.0\\n2      26.0\\n3      35.0\\n4      35.0\\n       ... \\n886    27.0\\n887    19.0\\n888     NaN\\n889    26.0\\n890    32.0\\nName: Age, Length: 891, dtype: float64>', 'Age_54.0', 'Age_2.0', 'Age_27.0', 'Age_14.0', 'Age_4.0', 'Age_58.0', 'Age_20.0', 'Age_39.0', 'Age_55.0', 'Age_31.0', 'Age_34.0', 'Age_15.0', 'Age_28.0', 'Age_8.0', 'Age_19.0', 'Age_40.0', 'Age_66.0', 'Age_42.0', 'Age_21.0', 'Age_18.0', 'Age_3.0', 'Age_7.0', 'Age_49.0', 'Age_29.0', 'Age_65.0', 'Age_28.5', 'Age_5.0', 'Age_11.0', 'Age_45.0', 'Age_17.0', 'Age_32.0', 'Age_16.0', 'Age_25.0', 'Age_0.83', 'Age_30.0', 'Age_33.0', 'Age_23.0', 'Age_24.0', 'Age_46.0', 'Age_59.0', 'Age_71.0', 'Age_37.0', 'Age_47.0', 'Age_14.5', 'Age_70.5', 'Age_32.5', 'Age_12.0', 'Age_9.0', 'Age_36.5', 'Age_51.0', 'Age_55.5', 'Age_40.5', 'Age_44.0', 'Age_1.0', 'Age_61.0', 'Age_56.0', 'Age_50.0', 'Age_36.0', 'Age_45.5', 'Age_20.5', 'Age_62.0', 'Age_41.0', 'Age_52.0', 'Age_63.0', 'Age_23.5', 'Age_0.92', 'Age_43.0', 'Age_60.0', 'Age_10.0', 'Age_64.0', 'Age_13.0', 'Age_48.0', 'Age_0.75', 'Age_53.0', 'Age_57.0', 'Age_80.0', 'Age_70.0', 'Age_24.5', 'Age_6.0', 'Age_0.67', 'Age_30.5', 'Age_0.42', 'Age_34.5', 'Age_74.0', 'Ticket_110413', 'Ticket_110465', 'Ticket_110564', 'Ticket_110813', 'Ticket_111240', 'Ticket_111320', 'Ticket_111361', 'Ticket_111369', 'Ticket_111426', 'Ticket_111427', 'Ticket_111428', 'Ticket_112050', 'Ticket_112052', 'Ticket_112053', 'Ticket_112058', 'Ticket_112059', 'Ticket_112277', 'Ticket_112379', 'Ticket_113028', 'Ticket_113043', 'Ticket_113050', 'Ticket_113051', 'Ticket_113055', 'Ticket_113056', 'Ticket_113059', 'Ticket_113501', 'Ticket_113503', 'Ticket_113505', 'Ticket_113509', 'Ticket_113510', 'Ticket_113514', 'Ticket_113572', 'Ticket_113760', 'Ticket_113767', 'Ticket_113773', 'Ticket_113776', 'Ticket_113781', 'Ticket_113783', 'Ticket_113784', 'Ticket_113786', 'Ticket_113787', 'Ticket_113788', 'Ticket_113789', 'Ticket_113792', 'Ticket_113794', 'Ticket_113796', 'Ticket_113798', 'Ticket_113800', 'Ticket_113803', 'Ticket_113804', 'Ticket_113806', 'Ticket_113807', 'Ticket_11668', 'Ticket_11751', 'Ticket_11752', 'Ticket_11753', 'Ticket_11755', 'Ticket_11765', 'Ticket_11767', 'Ticket_11769', 'Ticket_11771', 'Ticket_11774', 'Ticket_11813', 'Ticket_11967', 'Ticket_12233', 'Ticket_12460', 'Ticket_12749', 'Ticket_13049', 'Ticket_13213', 'Ticket_13214', 'Ticket_13502', 'Ticket_13507', 'Ticket_13509', 'Ticket_13567', 'Ticket_13568', 'Ticket_14311', 'Ticket_14312', 'Ticket_14313', 'Ticket_14973', 'Ticket_1601', 'Ticket_16966', 'Ticket_16988', 'Ticket_17421', 'Ticket_17453', 'Ticket_17463', 'Ticket_17464', 'Ticket_17465', 'Ticket_17466', 'Ticket_17474', 'Ticket_17764', 'Ticket_19877', 'Ticket_19928', 'Ticket_19943', 'Ticket_19947', 'Ticket_19950', 'Ticket_19952', 'Ticket_19972', 'Ticket_19988', 'Ticket_19996', 'Ticket_2003', 'Ticket_211536', 'Ticket_21440', 'Ticket_218629', 'Ticket_219533', 'Ticket_220367', 'Ticket_220845', 'Ticket_2223', 'Ticket_223596', 'Ticket_226593', 'Ticket_226875', 'Ticket_228414', 'Ticket_229236', 'Ticket_230080', 'Ticket_230136', 'Ticket_230433', 'Ticket_230434', 'Ticket_231919', 'Ticket_231945', 'Ticket_233639', 'Ticket_233866', 'Ticket_234360', 'Ticket_234604', 'Ticket_234686', 'Ticket_234818', 'Ticket_236171', 'Ticket_236852', 'Ticket_236853', 'Ticket_237442', 'Ticket_237565', 'Ticket_237668', 'Ticket_237671', 'Ticket_237736', 'Ticket_237789', 'Ticket_237798', 'Ticket_239853', 'Ticket_239854', 'Ticket_239855', 'Ticket_239856', 'Ticket_239865', 'Ticket_240929', 'Ticket_24160', 'Ticket_243847', 'Ticket_243880', 'Ticket_244252', 'Ticket_244270', 'Ticket_244278', 'Ticket_244310', 'Ticket_244358', 'Ticket_244361', 'Ticket_244367', 'Ticket_244373', 'Ticket_248698', 'Ticket_248706', 'Ticket_248723', 'Ticket_248727', 'Ticket_248731', 'Ticket_248733', 'Ticket_248738', 'Ticket_248740', 'Ticket_248747', 'Ticket_250643', 'Ticket_250644', 'Ticket_250646', 'Ticket_250647', 'Ticket_250648', 'Ticket_250649', 'Ticket_250651', 'Ticket_250652', 'Ticket_250653', 'Ticket_250655', 'Ticket_2620', 'Ticket_2623', 'Ticket_2624', 'Ticket_2625', 'Ticket_2626', 'Ticket_2627', 'Ticket_2628', 'Ticket_2629', 'Ticket_2631', 'Ticket_26360', 'Ticket_2641', 'Ticket_2647', 'Ticket_2648', 'Ticket_2649', 'Ticket_2650', 'Ticket_2651', 'Ticket_2653', 'Ticket_2659', 'Ticket_2661', 'Ticket_2662', 'Ticket_2663', 'Ticket_2664', 'Ticket_2665', 'Ticket_2666', 'Ticket_2667', 'Ticket_2668', 'Ticket_2669', 'Ticket_26707', 'Ticket_2671', 'Ticket_2672', 'Ticket_2674', 'Ticket_2677', 'Ticket_2678', 'Ticket_2680', 'Ticket_2683', 'Ticket_2685', 'Ticket_2686', 'Ticket_2687', 'Ticket_2689', 'Ticket_2690', 'Ticket_2691', 'Ticket_2693', 'Ticket_2694', 'Ticket_2695', 'Ticket_2697', 'Ticket_2699', 'Ticket_2700', 'Ticket_27042', 'Ticket_27267', 'Ticket_27849', 'Ticket_28134', 'Ticket_28206', 'Ticket_28213', 'Ticket_28220', 'Ticket_28228', 'Ticket_28403', 'Ticket_28424', 'Ticket_28425', 'Ticket_28551', 'Ticket_28664', 'Ticket_28665', 'Ticket_29011', 'Ticket_2908', 'Ticket_29103', 'Ticket_29104', 'Ticket_29105', 'Ticket_29106', 'Ticket_29108', 'Ticket_2926', 'Ticket_29750', 'Ticket_29751', 'Ticket_3101264', 'Ticket_3101265', 'Ticket_3101267', 'Ticket_3101276', 'Ticket_3101277', 'Ticket_3101278', 'Ticket_3101281', 'Ticket_3101295', 'Ticket_3101296', 'Ticket_3101298', 'Ticket_31027', 'Ticket_31028', 'Ticket_312991', 'Ticket_312992', 'Ticket_312993', 'Ticket_31418', 'Ticket_315037', 'Ticket_315082', 'Ticket_315084', 'Ticket_315086', 'Ticket_315088', 'Ticket_315089', 'Ticket_315090', 'Ticket_315093', 'Ticket_315094', 'Ticket_315096', 'Ticket_315097', 'Ticket_315098', 'Ticket_315151', 'Ticket_315153', 'Ticket_323592', 'Ticket_323951', 'Ticket_324669', 'Ticket_330877', 'Ticket_330909', 'Ticket_330919', 'Ticket_330923', 'Ticket_330931', 'Ticket_330932', 'Ticket_330935', 'Ticket_330958', 'Ticket_330959', 'Ticket_330979', 'Ticket_330980', 'Ticket_334912', 'Ticket_335097', 'Ticket_335677', 'Ticket_33638', 'Ticket_336439', 'Ticket_3411', 'Ticket_341826', 'Ticket_34218', 'Ticket_342826', 'Ticket_343095', 'Ticket_343120', 'Ticket_343275', 'Ticket_343276', 'Ticket_345364', 'Ticket_345572', 'Ticket_345763', 'Ticket_345764', 'Ticket_345765', 'Ticket_345767', 'Ticket_345769', 'Ticket_345770', 'Ticket_345773', 'Ticket_345774', 'Ticket_345777', 'Ticket_345778', 'Ticket_345779', 'Ticket_345780', 'Ticket_345781', 'Ticket_345783', 'Ticket_3460', 'Ticket_347054', 'Ticket_347060', 'Ticket_347061', 'Ticket_347062', 'Ticket_347063', 'Ticket_347064', 'Ticket_347067', 'Ticket_347068', 'Ticket_347069', 'Ticket_347071', 'Ticket_347073', 'Ticket_347074', 'Ticket_347076', 'Ticket_347077', 'Ticket_347078', 'Ticket_347080', 'Ticket_347081', 'Ticket_347082', 'Ticket_347083', 'Ticket_347085', 'Ticket_347087', 'Ticket_347088', 'Ticket_347089', 'Ticket_3474', 'Ticket_347464', 'Ticket_347466', 'Ticket_347468', 'Ticket_347470', 'Ticket_347742', 'Ticket_347743', 'Ticket_348121', 'Ticket_348123', 'Ticket_348124', 'Ticket_349201', 'Ticket_349203', 'Ticket_349204', 'Ticket_349205', 'Ticket_349206', 'Ticket_349207', 'Ticket_349208', 'Ticket_349209', 'Ticket_349210', 'Ticket_349212', 'Ticket_349213', 'Ticket_349214', 'Ticket_349215', 'Ticket_349216', 'Ticket_349217', 'Ticket_349218', 'Ticket_349219', 'Ticket_349221', 'Ticket_349222', 'Ticket_349223', 'Ticket_349224', 'Ticket_349225', 'Ticket_349227', 'Ticket_349228', 'Ticket_349231', 'Ticket_349233', 'Ticket_349234', 'Ticket_349236', 'Ticket_349237', 'Ticket_349239', 'Ticket_349240', 'Ticket_349241', 'Ticket_349242', 'Ticket_349243', 'Ticket_349244', 'Ticket_349245', 'Ticket_349246', 'Ticket_349247', 'Ticket_349248', 'Ticket_349249', 'Ticket_349251', 'Ticket_349252', 'Ticket_349253', 'Ticket_349254', 'Ticket_349256', 'Ticket_349257', 'Ticket_349909', 'Ticket_349910', 'Ticket_349912', 'Ticket_350025', 'Ticket_350026', 'Ticket_350029', 'Ticket_350034', 'Ticket_350035', 'Ticket_350036', 'Ticket_350042', 'Ticket_350043', 'Ticket_350046', 'Ticket_350047', 'Ticket_350048', 'Ticket_350050', 'Ticket_350052', 'Ticket_350060', 'Ticket_350404', 'Ticket_350406', 'Ticket_350407', 'Ticket_350417', 'Ticket_35273', 'Ticket_35281', 'Ticket_35851', 'Ticket_35852', 'Ticket_358585', 'Ticket_36209', 'Ticket_362316', 'Ticket_363291', 'Ticket_363294', 'Ticket_363592', 'Ticket_364498', 'Ticket_364499', 'Ticket_364500', 'Ticket_364506', 'Ticket_364511', 'Ticket_364512', 'Ticket_364516', 'Ticket_364846', 'Ticket_364848', 'Ticket_364849', 'Ticket_364850', 'Ticket_364851', 'Ticket_365222', 'Ticket_365226', 'Ticket_36568', 'Ticket_367226', 'Ticket_367228', 'Ticket_367229', 'Ticket_367230', 'Ticket_367231', 'Ticket_367232', 'Ticket_367655', 'Ticket_368323', 'Ticket_36864', 'Ticket_36865', 'Ticket_36866', 'Ticket_368703', 'Ticket_36928', 'Ticket_36947', 'Ticket_36963', 'Ticket_36967', 'Ticket_36973', 'Ticket_370129', 'Ticket_370365', 'Ticket_370369', 'Ticket_370370', 'Ticket_370371', 'Ticket_370372', 'Ticket_370373', 'Ticket_370375', 'Ticket_370376', 'Ticket_370377', 'Ticket_371060', 'Ticket_371110', 'Ticket_371362', 'Ticket_372622', 'Ticket_373450', 'Ticket_374746', 'Ticket_374887', 'Ticket_374910', 'Ticket_376564', 'Ticket_376566', 'Ticket_382649', 'Ticket_382651', 'Ticket_382652', 'Ticket_383121', 'Ticket_384461', 'Ticket_386525', 'Ticket_392091', 'Ticket_392092', 'Ticket_392096', 'Ticket_394140', 'Ticket_4133', 'Ticket_4134', 'Ticket_4135', 'Ticket_4136', 'Ticket_4137', 'Ticket_4138', 'Ticket_4579', 'Ticket_54636', 'Ticket_5727', 'Ticket_65303', 'Ticket_65304', 'Ticket_65306', 'Ticket_6563', 'Ticket_693', 'Ticket_695', 'Ticket_7267', 'Ticket_7534', 'Ticket_7540', 'Ticket_7545', 'Ticket_7546', 'Ticket_7552', 'Ticket_7553', 'Ticket_7598', 'Ticket_8471', 'Ticket_8475', 'Ticket_9234', 'Ticket_A./5. 2152', 'Ticket_A./5. 3235', 'Ticket_A.5. 11206', 'Ticket_A.5. 18509', 'Ticket_A/4 45380', 'Ticket_A/4 48871', 'Ticket_A/4. 20589', 'Ticket_A/4. 34244', 'Ticket_A/4. 39886', 'Ticket_A/5 21171', 'Ticket_A/5 21172', 'Ticket_A/5 21173', 'Ticket_A/5 21174', 'Ticket_A/5 2466', 'Ticket_A/5 2817', 'Ticket_A/5 3536', 'Ticket_A/5 3540', 'Ticket_A/5 3594', 'Ticket_A/5 3902', 'Ticket_A/5. 10482', 'Ticket_A/5. 13032', 'Ticket_A/5. 2151', 'Ticket_A/5. 3336', 'Ticket_A/5. 3337', 'Ticket_A/5. 851', 'Ticket_A/S 2816', 'Ticket_A4. 54510', 'Ticket_C 17369', 'Ticket_C 4001', 'Ticket_C 7075', 'Ticket_C 7076', 'Ticket_C 7077', 'Ticket_C.A. 17248', 'Ticket_C.A. 18723', 'Ticket_C.A. 2315', 'Ticket_C.A. 24579', 'Ticket_C.A. 24580', 'Ticket_C.A. 2673', 'Ticket_C.A. 29178', 'Ticket_C.A. 29395', 'Ticket_C.A. 29566', 'Ticket_C.A. 31026', 'Ticket_C.A. 31921', 'Ticket_C.A. 33111', 'Ticket_C.A. 33112', 'Ticket_C.A. 33595', 'Ticket_C.A. 34260', 'Ticket_C.A. 34651', 'Ticket_C.A. 37671', 'Ticket_C.A. 5547', 'Ticket_C.A. 6212', 'Ticket_C.A./SOTON 34068', 'Ticket_CA 2144', 'Ticket_CA. 2314', 'Ticket_CA. 2343', 'Ticket_F.C. 12750', 'Ticket_F.C.C. 13528', 'Ticket_F.C.C. 13529', 'Ticket_F.C.C. 13531', 'Ticket_Fa 265302', 'Ticket_LINE', 'Ticket_P/PP 3381', 'Ticket_PC 17318', 'Ticket_PC 17473', 'Ticket_PC 17474', 'Ticket_PC 17475', 'Ticket_PC 17476', 'Ticket_PC 17477', 'Ticket_PC 17482', 'Ticket_PC 17483', 'Ticket_PC 17485', 'Ticket_PC 17558', 'Ticket_PC 17569', 'Ticket_PC 17572', 'Ticket_PC 17582', 'Ticket_PC 17585', 'Ticket_PC 17590', 'Ticket_PC 17592', 'Ticket_PC 17593', 'Ticket_PC 17595', 'Ticket_PC 17596', 'Ticket_PC 17597', 'Ticket_PC 17599', 'Ticket_PC 17600', 'Ticket_PC 17601', 'Ticket_PC 17603', 'Ticket_PC 17604', 'Ticket_PC 17605', 'Ticket_PC 17608', 'Ticket_PC 17609', 'Ticket_PC 17610', 'Ticket_PC 17611', 'Ticket_PC 17612', 'Ticket_PC 17754', 'Ticket_PC 17755', 'Ticket_PC 17756', 'Ticket_PC 17757', 'Ticket_PC 17758', 'Ticket_PC 17759', 'Ticket_PC 17760', 'Ticket_PC 17761', 'Ticket_PP 4348', 'Ticket_PP 9549', 'Ticket_S.C./A.4. 23567', 'Ticket_S.C./PARIS 2079', 'Ticket_S.O./P.P. 3', 'Ticket_S.O./P.P. 751', 'Ticket_S.O.C. 14879', 'Ticket_S.O.P. 1166', 'Ticket_S.P. 3464', 'Ticket_S.W./PP 752', 'Ticket_SC 1748', 'Ticket_SC/AH 29037', 'Ticket_SC/AH 3085', 'Ticket_SC/AH Basle 541', 'Ticket_SC/PARIS 2131', 'Ticket_SC/PARIS 2133', 'Ticket_SC/PARIS 2146', 'Ticket_SC/PARIS 2149', 'Ticket_SC/PARIS 2167', 'Ticket_SC/Paris 2123', 'Ticket_SC/Paris 2163', 'Ticket_SCO/W 1585', 'Ticket_SO/C 14885', 'Ticket_SOTON/O.Q. 3101305', 'Ticket_SOTON/O.Q. 3101306', 'Ticket_SOTON/O.Q. 3101307', 'Ticket_SOTON/O.Q. 3101310', 'Ticket_SOTON/O.Q. 3101311', 'Ticket_SOTON/O.Q. 3101312', 'Ticket_SOTON/O.Q. 392078', 'Ticket_SOTON/O.Q. 392087', 'Ticket_SOTON/O2 3101272', 'Ticket_SOTON/O2 3101287', 'Ticket_SOTON/OQ 3101316', 'Ticket_SOTON/OQ 3101317', 'Ticket_SOTON/OQ 392076', 'Ticket_SOTON/OQ 392082', 'Ticket_SOTON/OQ 392086', 'Ticket_SOTON/OQ 392089', 'Ticket_SOTON/OQ 392090', 'Ticket_STON/O 2. 3101269', 'Ticket_STON/O 2. 3101273', 'Ticket_STON/O 2. 3101274', 'Ticket_STON/O 2. 3101275', 'Ticket_STON/O 2. 3101280', 'Ticket_STON/O 2. 3101285', 'Ticket_STON/O 2. 3101286', 'Ticket_STON/O 2. 3101288', 'Ticket_STON/O 2. 3101289', 'Ticket_STON/O 2. 3101292', 'Ticket_STON/O 2. 3101293', 'Ticket_STON/O 2. 3101294', 'Ticket_STON/O2. 3101271', 'Ticket_STON/O2. 3101279', 'Ticket_STON/O2. 3101282', 'Ticket_STON/O2. 3101283', 'Ticket_STON/O2. 3101290', 'Ticket_SW/PP 751', 'Ticket_W./C. 14258', 'Ticket_W./C. 14263', 'Ticket_W./C. 6607', 'Ticket_W./C. 6608', 'Ticket_W./C. 6609', 'Ticket_W.E.P. 5734', 'Ticket_W/C 14208', 'Ticket_WE/P 5735']\n",
      "\n",
      "First few rows of the encoded dataset:\n"
     ]
    },
    {
     "data": {
      "text/html": [
       "<div>\n",
       "<style scoped>\n",
       "    .dataframe tbody tr th:only-of-type {\n",
       "        vertical-align: middle;\n",
       "    }\n",
       "\n",
       "    .dataframe tbody tr th {\n",
       "        vertical-align: top;\n",
       "    }\n",
       "\n",
       "    .dataframe thead th {\n",
       "        text-align: right;\n",
       "    }\n",
       "</style>\n",
       "<table border=\"1\" class=\"dataframe\">\n",
       "  <thead>\n",
       "    <tr style=\"text-align: right;\">\n",
       "      <th></th>\n",
       "      <th>PassengerId</th>\n",
       "      <th>Survived</th>\n",
       "      <th>Pclass</th>\n",
       "      <th>SibSp</th>\n",
       "      <th>Parch</th>\n",
       "      <th>Fare</th>\n",
       "      <th>Name_Abbott, Mr. Rossmore Edward</th>\n",
       "      <th>Name_Abbott, Mrs. Stanton (Rosa Hunt)</th>\n",
       "      <th>Name_Abelson, Mr. Samuel</th>\n",
       "      <th>Name_Abelson, Mrs. Samuel (Hannah Wizosky)</th>\n",
       "      <th>...</th>\n",
       "      <th>Ticket_STON/O2. 3101290</th>\n",
       "      <th>Ticket_SW/PP 751</th>\n",
       "      <th>Ticket_W./C. 14258</th>\n",
       "      <th>Ticket_W./C. 14263</th>\n",
       "      <th>Ticket_W./C. 6607</th>\n",
       "      <th>Ticket_W./C. 6608</th>\n",
       "      <th>Ticket_W./C. 6609</th>\n",
       "      <th>Ticket_W.E.P. 5734</th>\n",
       "      <th>Ticket_W/C 14208</th>\n",
       "      <th>Ticket_WE/P 5735</th>\n",
       "    </tr>\n",
       "  </thead>\n",
       "  <tbody>\n",
       "    <tr>\n",
       "      <th>0</th>\n",
       "      <td>1</td>\n",
       "      <td>0</td>\n",
       "      <td>3</td>\n",
       "      <td>1</td>\n",
       "      <td>0</td>\n",
       "      <td>7.2500</td>\n",
       "      <td>False</td>\n",
       "      <td>False</td>\n",
       "      <td>False</td>\n",
       "      <td>False</td>\n",
       "      <td>...</td>\n",
       "      <td>False</td>\n",
       "      <td>False</td>\n",
       "      <td>False</td>\n",
       "      <td>False</td>\n",
       "      <td>False</td>\n",
       "      <td>False</td>\n",
       "      <td>False</td>\n",
       "      <td>False</td>\n",
       "      <td>False</td>\n",
       "      <td>False</td>\n",
       "    </tr>\n",
       "    <tr>\n",
       "      <th>1</th>\n",
       "      <td>2</td>\n",
       "      <td>1</td>\n",
       "      <td>1</td>\n",
       "      <td>1</td>\n",
       "      <td>0</td>\n",
       "      <td>71.2833</td>\n",
       "      <td>False</td>\n",
       "      <td>False</td>\n",
       "      <td>False</td>\n",
       "      <td>False</td>\n",
       "      <td>...</td>\n",
       "      <td>False</td>\n",
       "      <td>False</td>\n",
       "      <td>False</td>\n",
       "      <td>False</td>\n",
       "      <td>False</td>\n",
       "      <td>False</td>\n",
       "      <td>False</td>\n",
       "      <td>False</td>\n",
       "      <td>False</td>\n",
       "      <td>False</td>\n",
       "    </tr>\n",
       "    <tr>\n",
       "      <th>2</th>\n",
       "      <td>3</td>\n",
       "      <td>1</td>\n",
       "      <td>3</td>\n",
       "      <td>0</td>\n",
       "      <td>0</td>\n",
       "      <td>7.9250</td>\n",
       "      <td>False</td>\n",
       "      <td>False</td>\n",
       "      <td>False</td>\n",
       "      <td>False</td>\n",
       "      <td>...</td>\n",
       "      <td>False</td>\n",
       "      <td>False</td>\n",
       "      <td>False</td>\n",
       "      <td>False</td>\n",
       "      <td>False</td>\n",
       "      <td>False</td>\n",
       "      <td>False</td>\n",
       "      <td>False</td>\n",
       "      <td>False</td>\n",
       "      <td>False</td>\n",
       "    </tr>\n",
       "    <tr>\n",
       "      <th>3</th>\n",
       "      <td>4</td>\n",
       "      <td>1</td>\n",
       "      <td>1</td>\n",
       "      <td>1</td>\n",
       "      <td>0</td>\n",
       "      <td>53.1000</td>\n",
       "      <td>False</td>\n",
       "      <td>False</td>\n",
       "      <td>False</td>\n",
       "      <td>False</td>\n",
       "      <td>...</td>\n",
       "      <td>False</td>\n",
       "      <td>False</td>\n",
       "      <td>False</td>\n",
       "      <td>False</td>\n",
       "      <td>False</td>\n",
       "      <td>False</td>\n",
       "      <td>False</td>\n",
       "      <td>False</td>\n",
       "      <td>False</td>\n",
       "      <td>False</td>\n",
       "    </tr>\n",
       "    <tr>\n",
       "      <th>4</th>\n",
       "      <td>5</td>\n",
       "      <td>0</td>\n",
       "      <td>3</td>\n",
       "      <td>0</td>\n",
       "      <td>0</td>\n",
       "      <td>8.0500</td>\n",
       "      <td>False</td>\n",
       "      <td>False</td>\n",
       "      <td>False</td>\n",
       "      <td>False</td>\n",
       "      <td>...</td>\n",
       "      <td>False</td>\n",
       "      <td>False</td>\n",
       "      <td>False</td>\n",
       "      <td>False</td>\n",
       "      <td>False</td>\n",
       "      <td>False</td>\n",
       "      <td>False</td>\n",
       "      <td>False</td>\n",
       "      <td>False</td>\n",
       "      <td>False</td>\n",
       "    </tr>\n",
       "  </tbody>\n",
       "</table>\n",
       "<p>5 rows × 1665 columns</p>\n",
       "</div>"
      ],
      "text/plain": [
       "   PassengerId  Survived  Pclass  SibSp  Parch     Fare  \\\n",
       "0            1         0       3      1      0   7.2500   \n",
       "1            2         1       1      1      0  71.2833   \n",
       "2            3         1       3      0      0   7.9250   \n",
       "3            4         1       1      1      0  53.1000   \n",
       "4            5         0       3      0      0   8.0500   \n",
       "\n",
       "   Name_Abbott, Mr. Rossmore Edward  Name_Abbott, Mrs. Stanton (Rosa Hunt)  \\\n",
       "0                             False                                  False   \n",
       "1                             False                                  False   \n",
       "2                             False                                  False   \n",
       "3                             False                                  False   \n",
       "4                             False                                  False   \n",
       "\n",
       "   Name_Abelson, Mr. Samuel  Name_Abelson, Mrs. Samuel (Hannah Wizosky)  ...  \\\n",
       "0                     False                                       False  ...   \n",
       "1                     False                                       False  ...   \n",
       "2                     False                                       False  ...   \n",
       "3                     False                                       False  ...   \n",
       "4                     False                                       False  ...   \n",
       "\n",
       "   Ticket_STON/O2. 3101290  Ticket_SW/PP 751  Ticket_W./C. 14258  \\\n",
       "0                    False             False               False   \n",
       "1                    False             False               False   \n",
       "2                    False             False               False   \n",
       "3                    False             False               False   \n",
       "4                    False             False               False   \n",
       "\n",
       "   Ticket_W./C. 14263  Ticket_W./C. 6607  Ticket_W./C. 6608  \\\n",
       "0               False              False              False   \n",
       "1               False              False              False   \n",
       "2               False              False              False   \n",
       "3               False              False              False   \n",
       "4               False              False              False   \n",
       "\n",
       "   Ticket_W./C. 6609  Ticket_W.E.P. 5734  Ticket_W/C 14208  Ticket_WE/P 5735  \n",
       "0              False               False             False             False  \n",
       "1              False               False             False             False  \n",
       "2              False               False             False             False  \n",
       "3              False               False             False             False  \n",
       "4              False               False             False             False  \n",
       "\n",
       "[5 rows x 1665 columns]"
      ]
     },
     "metadata": {},
     "output_type": "display_data"
    },
    {
     "name": "stdout",
     "output_type": "stream",
     "text": [
      "\n",
      "New shape of the dataset: (891, 1665)\n"
     ]
    }
   ],
   "source": [
    "# First, let's identify our categorical columns\n",
    "categorical_columns = df.select_dtypes(include=['object']).columns\n",
    "print(\"Categorical columns in the dataset:\")\n",
    "print(categorical_columns)\n",
    "\n",
    "# Show an example of dummy variables before and after dropping first category\n",
    "print(\"\\nExample with 'Sex' column:\")\n",
    "print(\"Without dropping first category (includes both):\")\n",
    "example_full = pd.get_dummies(df[['Sex']])\n",
    "print(example_full.columns.tolist())\n",
    "\n",
    "print(\"\\nWith dropping first category (drop_first=True):\")\n",
    "example_dropped = pd.get_dummies(df[['Sex']], drop_first=True)\n",
    "print(example_dropped.columns.tolist())\n",
    "\n",
    "# Create a copy of the dataframe to keep the original intact\n",
    "df_encoded = df.copy()\n",
    "\n",
    "# Convert categorical variables to numerical using get_dummies\n",
    "# drop_first=True removes one category from each feature to avoid multicollinearity\n",
    "df_encoded = pd.get_dummies(df_encoded, columns=categorical_columns, drop_first=True)\n",
    "\n",
    "# Show the encoded columns\n",
    "print(\"\\nFinal encoded categorical columns:\")\n",
    "print([col for col in df_encoded.columns if any(cat in col for cat in categorical_columns)])\n",
    "\n",
    "# Display the first few rows of the encoded dataset\n",
    "print(\"\\nFirst few rows of the encoded dataset:\")\n",
    "display(df_encoded.head())\n",
    "\n",
    "# Display the new shape of the dataset\n",
    "print(\"\\nNew shape of the dataset:\", df_encoded.shape)"
   ]
  },
  {
   "cell_type": "markdown",
   "id": "a8574a8e",
   "metadata": {},
   "source": [
    "## 6. Model Preparation and Training\n",
    "Preparing features for model training and selecting the model."
   ]
  },
  {
   "cell_type": "code",
   "execution_count": 38,
   "id": "ddb730b3",
   "metadata": {},
   "outputs": [],
   "source": [
    "X = df_encoded.drop(\"Survived\", axis=1)\n",
    "y = df_encoded[\"Survived\"]"
   ]
  },
  {
   "cell_type": "code",
   "execution_count": 39,
   "id": "828674c7",
   "metadata": {},
   "outputs": [],
   "source": [
    "X_train, X_test, y_train, y_test = train_test_split(X, y, test_size=0.2)"
   ]
  },
  {
   "cell_type": "code",
   "execution_count": 40,
   "id": "57a3d669",
   "metadata": {},
   "outputs": [],
   "source": [
    "model = LogisticRegression()"
   ]
  },
  {
   "cell_type": "code",
   "execution_count": 41,
   "id": "b592a764",
   "metadata": {},
   "outputs": [
    {
     "name": "stderr",
     "output_type": "stream",
     "text": [
      "C:\\Users\\Yasser\\AppData\\Local\\Packages\\PythonSoftwareFoundation.Python.3.11_qbz5n2kfra8p0\\LocalCache\\local-packages\\Python311\\site-packages\\sklearn\\linear_model\\_logistic.py:469: ConvergenceWarning: lbfgs failed to converge (status=1):\n",
      "STOP: TOTAL NO. of ITERATIONS REACHED LIMIT.\n",
      "\n",
      "Increase the number of iterations (max_iter) or scale the data as shown in:\n",
      "    https://scikit-learn.org/stable/modules/preprocessing.html\n",
      "Please also refer to the documentation for alternative solver options:\n",
      "    https://scikit-learn.org/stable/modules/linear_model.html#logistic-regression\n",
      "  n_iter_i = _check_optimize_result(\n"
     ]
    },
    {
     "data": {
      "text/html": [
       "<style>#sk-container-id-6 {\n",
       "  /* Definition of color scheme common for light and dark mode */\n",
       "  --sklearn-color-text: black;\n",
       "  --sklearn-color-line: gray;\n",
       "  /* Definition of color scheme for unfitted estimators */\n",
       "  --sklearn-color-unfitted-level-0: #fff5e6;\n",
       "  --sklearn-color-unfitted-level-1: #f6e4d2;\n",
       "  --sklearn-color-unfitted-level-2: #ffe0b3;\n",
       "  --sklearn-color-unfitted-level-3: chocolate;\n",
       "  /* Definition of color scheme for fitted estimators */\n",
       "  --sklearn-color-fitted-level-0: #f0f8ff;\n",
       "  --sklearn-color-fitted-level-1: #d4ebff;\n",
       "  --sklearn-color-fitted-level-2: #b3dbfd;\n",
       "  --sklearn-color-fitted-level-3: cornflowerblue;\n",
       "\n",
       "  /* Specific color for light theme */\n",
       "  --sklearn-color-text-on-default-background: var(--sg-text-color, var(--theme-code-foreground, var(--jp-content-font-color1, black)));\n",
       "  --sklearn-color-background: var(--sg-background-color, var(--theme-background, var(--jp-layout-color0, white)));\n",
       "  --sklearn-color-border-box: var(--sg-text-color, var(--theme-code-foreground, var(--jp-content-font-color1, black)));\n",
       "  --sklearn-color-icon: #696969;\n",
       "\n",
       "  @media (prefers-color-scheme: dark) {\n",
       "    /* Redefinition of color scheme for dark theme */\n",
       "    --sklearn-color-text-on-default-background: var(--sg-text-color, var(--theme-code-foreground, var(--jp-content-font-color1, white)));\n",
       "    --sklearn-color-background: var(--sg-background-color, var(--theme-background, var(--jp-layout-color0, #111)));\n",
       "    --sklearn-color-border-box: var(--sg-text-color, var(--theme-code-foreground, var(--jp-content-font-color1, white)));\n",
       "    --sklearn-color-icon: #878787;\n",
       "  }\n",
       "}\n",
       "\n",
       "#sk-container-id-6 {\n",
       "  color: var(--sklearn-color-text);\n",
       "}\n",
       "\n",
       "#sk-container-id-6 pre {\n",
       "  padding: 0;\n",
       "}\n",
       "\n",
       "#sk-container-id-6 input.sk-hidden--visually {\n",
       "  border: 0;\n",
       "  clip: rect(1px 1px 1px 1px);\n",
       "  clip: rect(1px, 1px, 1px, 1px);\n",
       "  height: 1px;\n",
       "  margin: -1px;\n",
       "  overflow: hidden;\n",
       "  padding: 0;\n",
       "  position: absolute;\n",
       "  width: 1px;\n",
       "}\n",
       "\n",
       "#sk-container-id-6 div.sk-dashed-wrapped {\n",
       "  border: 1px dashed var(--sklearn-color-line);\n",
       "  margin: 0 0.4em 0.5em 0.4em;\n",
       "  box-sizing: border-box;\n",
       "  padding-bottom: 0.4em;\n",
       "  background-color: var(--sklearn-color-background);\n",
       "}\n",
       "\n",
       "#sk-container-id-6 div.sk-container {\n",
       "  /* jupyter's `normalize.less` sets `[hidden] { display: none; }`\n",
       "     but bootstrap.min.css set `[hidden] { display: none !important; }`\n",
       "     so we also need the `!important` here to be able to override the\n",
       "     default hidden behavior on the sphinx rendered scikit-learn.org.\n",
       "     See: https://github.com/scikit-learn/scikit-learn/issues/21755 */\n",
       "  display: inline-block !important;\n",
       "  position: relative;\n",
       "}\n",
       "\n",
       "#sk-container-id-6 div.sk-text-repr-fallback {\n",
       "  display: none;\n",
       "}\n",
       "\n",
       "div.sk-parallel-item,\n",
       "div.sk-serial,\n",
       "div.sk-item {\n",
       "  /* draw centered vertical line to link estimators */\n",
       "  background-image: linear-gradient(var(--sklearn-color-text-on-default-background), var(--sklearn-color-text-on-default-background));\n",
       "  background-size: 2px 100%;\n",
       "  background-repeat: no-repeat;\n",
       "  background-position: center center;\n",
       "}\n",
       "\n",
       "/* Parallel-specific style estimator block */\n",
       "\n",
       "#sk-container-id-6 div.sk-parallel-item::after {\n",
       "  content: \"\";\n",
       "  width: 100%;\n",
       "  border-bottom: 2px solid var(--sklearn-color-text-on-default-background);\n",
       "  flex-grow: 1;\n",
       "}\n",
       "\n",
       "#sk-container-id-6 div.sk-parallel {\n",
       "  display: flex;\n",
       "  align-items: stretch;\n",
       "  justify-content: center;\n",
       "  background-color: var(--sklearn-color-background);\n",
       "  position: relative;\n",
       "}\n",
       "\n",
       "#sk-container-id-6 div.sk-parallel-item {\n",
       "  display: flex;\n",
       "  flex-direction: column;\n",
       "}\n",
       "\n",
       "#sk-container-id-6 div.sk-parallel-item:first-child::after {\n",
       "  align-self: flex-end;\n",
       "  width: 50%;\n",
       "}\n",
       "\n",
       "#sk-container-id-6 div.sk-parallel-item:last-child::after {\n",
       "  align-self: flex-start;\n",
       "  width: 50%;\n",
       "}\n",
       "\n",
       "#sk-container-id-6 div.sk-parallel-item:only-child::after {\n",
       "  width: 0;\n",
       "}\n",
       "\n",
       "/* Serial-specific style estimator block */\n",
       "\n",
       "#sk-container-id-6 div.sk-serial {\n",
       "  display: flex;\n",
       "  flex-direction: column;\n",
       "  align-items: center;\n",
       "  background-color: var(--sklearn-color-background);\n",
       "  padding-right: 1em;\n",
       "  padding-left: 1em;\n",
       "}\n",
       "\n",
       "\n",
       "/* Toggleable style: style used for estimator/Pipeline/ColumnTransformer box that is\n",
       "clickable and can be expanded/collapsed.\n",
       "- Pipeline and ColumnTransformer use this feature and define the default style\n",
       "- Estimators will overwrite some part of the style using the `sk-estimator` class\n",
       "*/\n",
       "\n",
       "/* Pipeline and ColumnTransformer style (default) */\n",
       "\n",
       "#sk-container-id-6 div.sk-toggleable {\n",
       "  /* Default theme specific background. It is overwritten whether we have a\n",
       "  specific estimator or a Pipeline/ColumnTransformer */\n",
       "  background-color: var(--sklearn-color-background);\n",
       "}\n",
       "\n",
       "/* Toggleable label */\n",
       "#sk-container-id-6 label.sk-toggleable__label {\n",
       "  cursor: pointer;\n",
       "  display: block;\n",
       "  width: 100%;\n",
       "  margin-bottom: 0;\n",
       "  padding: 0.5em;\n",
       "  box-sizing: border-box;\n",
       "  text-align: center;\n",
       "}\n",
       "\n",
       "#sk-container-id-6 label.sk-toggleable__label-arrow:before {\n",
       "  /* Arrow on the left of the label */\n",
       "  content: \"▸\";\n",
       "  float: left;\n",
       "  margin-right: 0.25em;\n",
       "  color: var(--sklearn-color-icon);\n",
       "}\n",
       "\n",
       "#sk-container-id-6 label.sk-toggleable__label-arrow:hover:before {\n",
       "  color: var(--sklearn-color-text);\n",
       "}\n",
       "\n",
       "/* Toggleable content - dropdown */\n",
       "\n",
       "#sk-container-id-6 div.sk-toggleable__content {\n",
       "  max-height: 0;\n",
       "  max-width: 0;\n",
       "  overflow: hidden;\n",
       "  text-align: left;\n",
       "  /* unfitted */\n",
       "  background-color: var(--sklearn-color-unfitted-level-0);\n",
       "}\n",
       "\n",
       "#sk-container-id-6 div.sk-toggleable__content.fitted {\n",
       "  /* fitted */\n",
       "  background-color: var(--sklearn-color-fitted-level-0);\n",
       "}\n",
       "\n",
       "#sk-container-id-6 div.sk-toggleable__content pre {\n",
       "  margin: 0.2em;\n",
       "  border-radius: 0.25em;\n",
       "  color: var(--sklearn-color-text);\n",
       "  /* unfitted */\n",
       "  background-color: var(--sklearn-color-unfitted-level-0);\n",
       "}\n",
       "\n",
       "#sk-container-id-6 div.sk-toggleable__content.fitted pre {\n",
       "  /* unfitted */\n",
       "  background-color: var(--sklearn-color-fitted-level-0);\n",
       "}\n",
       "\n",
       "#sk-container-id-6 input.sk-toggleable__control:checked~div.sk-toggleable__content {\n",
       "  /* Expand drop-down */\n",
       "  max-height: 200px;\n",
       "  max-width: 100%;\n",
       "  overflow: auto;\n",
       "}\n",
       "\n",
       "#sk-container-id-6 input.sk-toggleable__control:checked~label.sk-toggleable__label-arrow:before {\n",
       "  content: \"▾\";\n",
       "}\n",
       "\n",
       "/* Pipeline/ColumnTransformer-specific style */\n",
       "\n",
       "#sk-container-id-6 div.sk-label input.sk-toggleable__control:checked~label.sk-toggleable__label {\n",
       "  color: var(--sklearn-color-text);\n",
       "  background-color: var(--sklearn-color-unfitted-level-2);\n",
       "}\n",
       "\n",
       "#sk-container-id-6 div.sk-label.fitted input.sk-toggleable__control:checked~label.sk-toggleable__label {\n",
       "  background-color: var(--sklearn-color-fitted-level-2);\n",
       "}\n",
       "\n",
       "/* Estimator-specific style */\n",
       "\n",
       "/* Colorize estimator box */\n",
       "#sk-container-id-6 div.sk-estimator input.sk-toggleable__control:checked~label.sk-toggleable__label {\n",
       "  /* unfitted */\n",
       "  background-color: var(--sklearn-color-unfitted-level-2);\n",
       "}\n",
       "\n",
       "#sk-container-id-6 div.sk-estimator.fitted input.sk-toggleable__control:checked~label.sk-toggleable__label {\n",
       "  /* fitted */\n",
       "  background-color: var(--sklearn-color-fitted-level-2);\n",
       "}\n",
       "\n",
       "#sk-container-id-6 div.sk-label label.sk-toggleable__label,\n",
       "#sk-container-id-6 div.sk-label label {\n",
       "  /* The background is the default theme color */\n",
       "  color: var(--sklearn-color-text-on-default-background);\n",
       "}\n",
       "\n",
       "/* On hover, darken the color of the background */\n",
       "#sk-container-id-6 div.sk-label:hover label.sk-toggleable__label {\n",
       "  color: var(--sklearn-color-text);\n",
       "  background-color: var(--sklearn-color-unfitted-level-2);\n",
       "}\n",
       "\n",
       "/* Label box, darken color on hover, fitted */\n",
       "#sk-container-id-6 div.sk-label.fitted:hover label.sk-toggleable__label.fitted {\n",
       "  color: var(--sklearn-color-text);\n",
       "  background-color: var(--sklearn-color-fitted-level-2);\n",
       "}\n",
       "\n",
       "/* Estimator label */\n",
       "\n",
       "#sk-container-id-6 div.sk-label label {\n",
       "  font-family: monospace;\n",
       "  font-weight: bold;\n",
       "  display: inline-block;\n",
       "  line-height: 1.2em;\n",
       "}\n",
       "\n",
       "#sk-container-id-6 div.sk-label-container {\n",
       "  text-align: center;\n",
       "}\n",
       "\n",
       "/* Estimator-specific */\n",
       "#sk-container-id-6 div.sk-estimator {\n",
       "  font-family: monospace;\n",
       "  border: 1px dotted var(--sklearn-color-border-box);\n",
       "  border-radius: 0.25em;\n",
       "  box-sizing: border-box;\n",
       "  margin-bottom: 0.5em;\n",
       "  /* unfitted */\n",
       "  background-color: var(--sklearn-color-unfitted-level-0);\n",
       "}\n",
       "\n",
       "#sk-container-id-6 div.sk-estimator.fitted {\n",
       "  /* fitted */\n",
       "  background-color: var(--sklearn-color-fitted-level-0);\n",
       "}\n",
       "\n",
       "/* on hover */\n",
       "#sk-container-id-6 div.sk-estimator:hover {\n",
       "  /* unfitted */\n",
       "  background-color: var(--sklearn-color-unfitted-level-2);\n",
       "}\n",
       "\n",
       "#sk-container-id-6 div.sk-estimator.fitted:hover {\n",
       "  /* fitted */\n",
       "  background-color: var(--sklearn-color-fitted-level-2);\n",
       "}\n",
       "\n",
       "/* Specification for estimator info (e.g. \"i\" and \"?\") */\n",
       "\n",
       "/* Common style for \"i\" and \"?\" */\n",
       "\n",
       ".sk-estimator-doc-link,\n",
       "a:link.sk-estimator-doc-link,\n",
       "a:visited.sk-estimator-doc-link {\n",
       "  float: right;\n",
       "  font-size: smaller;\n",
       "  line-height: 1em;\n",
       "  font-family: monospace;\n",
       "  background-color: var(--sklearn-color-background);\n",
       "  border-radius: 1em;\n",
       "  height: 1em;\n",
       "  width: 1em;\n",
       "  text-decoration: none !important;\n",
       "  margin-left: 1ex;\n",
       "  /* unfitted */\n",
       "  border: var(--sklearn-color-unfitted-level-1) 1pt solid;\n",
       "  color: var(--sklearn-color-unfitted-level-1);\n",
       "}\n",
       "\n",
       ".sk-estimator-doc-link.fitted,\n",
       "a:link.sk-estimator-doc-link.fitted,\n",
       "a:visited.sk-estimator-doc-link.fitted {\n",
       "  /* fitted */\n",
       "  border: var(--sklearn-color-fitted-level-1) 1pt solid;\n",
       "  color: var(--sklearn-color-fitted-level-1);\n",
       "}\n",
       "\n",
       "/* On hover */\n",
       "div.sk-estimator:hover .sk-estimator-doc-link:hover,\n",
       ".sk-estimator-doc-link:hover,\n",
       "div.sk-label-container:hover .sk-estimator-doc-link:hover,\n",
       ".sk-estimator-doc-link:hover {\n",
       "  /* unfitted */\n",
       "  background-color: var(--sklearn-color-unfitted-level-3);\n",
       "  color: var(--sklearn-color-background);\n",
       "  text-decoration: none;\n",
       "}\n",
       "\n",
       "div.sk-estimator.fitted:hover .sk-estimator-doc-link.fitted:hover,\n",
       ".sk-estimator-doc-link.fitted:hover,\n",
       "div.sk-label-container:hover .sk-estimator-doc-link.fitted:hover,\n",
       ".sk-estimator-doc-link.fitted:hover {\n",
       "  /* fitted */\n",
       "  background-color: var(--sklearn-color-fitted-level-3);\n",
       "  color: var(--sklearn-color-background);\n",
       "  text-decoration: none;\n",
       "}\n",
       "\n",
       "/* Span, style for the box shown on hovering the info icon */\n",
       ".sk-estimator-doc-link span {\n",
       "  display: none;\n",
       "  z-index: 9999;\n",
       "  position: relative;\n",
       "  font-weight: normal;\n",
       "  right: .2ex;\n",
       "  padding: .5ex;\n",
       "  margin: .5ex;\n",
       "  width: min-content;\n",
       "  min-width: 20ex;\n",
       "  max-width: 50ex;\n",
       "  color: var(--sklearn-color-text);\n",
       "  box-shadow: 2pt 2pt 4pt #999;\n",
       "  /* unfitted */\n",
       "  background: var(--sklearn-color-unfitted-level-0);\n",
       "  border: .5pt solid var(--sklearn-color-unfitted-level-3);\n",
       "}\n",
       "\n",
       ".sk-estimator-doc-link.fitted span {\n",
       "  /* fitted */\n",
       "  background: var(--sklearn-color-fitted-level-0);\n",
       "  border: var(--sklearn-color-fitted-level-3);\n",
       "}\n",
       "\n",
       ".sk-estimator-doc-link:hover span {\n",
       "  display: block;\n",
       "}\n",
       "\n",
       "/* \"?\"-specific style due to the `<a>` HTML tag */\n",
       "\n",
       "#sk-container-id-6 a.estimator_doc_link {\n",
       "  float: right;\n",
       "  font-size: 1rem;\n",
       "  line-height: 1em;\n",
       "  font-family: monospace;\n",
       "  background-color: var(--sklearn-color-background);\n",
       "  border-radius: 1rem;\n",
       "  height: 1rem;\n",
       "  width: 1rem;\n",
       "  text-decoration: none;\n",
       "  /* unfitted */\n",
       "  color: var(--sklearn-color-unfitted-level-1);\n",
       "  border: var(--sklearn-color-unfitted-level-1) 1pt solid;\n",
       "}\n",
       "\n",
       "#sk-container-id-6 a.estimator_doc_link.fitted {\n",
       "  /* fitted */\n",
       "  border: var(--sklearn-color-fitted-level-1) 1pt solid;\n",
       "  color: var(--sklearn-color-fitted-level-1);\n",
       "}\n",
       "\n",
       "/* On hover */\n",
       "#sk-container-id-6 a.estimator_doc_link:hover {\n",
       "  /* unfitted */\n",
       "  background-color: var(--sklearn-color-unfitted-level-3);\n",
       "  color: var(--sklearn-color-background);\n",
       "  text-decoration: none;\n",
       "}\n",
       "\n",
       "#sk-container-id-6 a.estimator_doc_link.fitted:hover {\n",
       "  /* fitted */\n",
       "  background-color: var(--sklearn-color-fitted-level-3);\n",
       "}\n",
       "</style><div id=\"sk-container-id-6\" class=\"sk-top-container\"><div class=\"sk-text-repr-fallback\"><pre>LogisticRegression()</pre><b>In a Jupyter environment, please rerun this cell to show the HTML representation or trust the notebook. <br />On GitHub, the HTML representation is unable to render, please try loading this page with nbviewer.org.</b></div><div class=\"sk-container\" hidden><div class=\"sk-item\"><div class=\"sk-estimator fitted sk-toggleable\"><input class=\"sk-toggleable__control sk-hidden--visually\" id=\"sk-estimator-id-6\" type=\"checkbox\" checked><label for=\"sk-estimator-id-6\" class=\"sk-toggleable__label fitted sk-toggleable__label-arrow fitted\">&nbsp;&nbsp;LogisticRegression<a class=\"sk-estimator-doc-link fitted\" rel=\"noreferrer\" target=\"_blank\" href=\"https://scikit-learn.org/1.5/modules/generated/sklearn.linear_model.LogisticRegression.html\">?<span>Documentation for LogisticRegression</span></a><span class=\"sk-estimator-doc-link fitted\">i<span>Fitted</span></span></label><div class=\"sk-toggleable__content fitted\"><pre>LogisticRegression()</pre></div> </div></div></div></div>"
      ],
      "text/plain": [
       "LogisticRegression()"
      ]
     },
     "execution_count": 41,
     "metadata": {},
     "output_type": "execute_result"
    }
   ],
   "source": [
    "model.fit(X_train, y_train)"
   ]
  },
  {
   "cell_type": "code",
   "execution_count": 42,
   "id": "613f836d",
   "metadata": {},
   "outputs": [
    {
     "data": {
      "text/plain": [
       "array([1, 1, 1, 0, 0, 1, 1, 0, 1, 0, 0, 1, 0, 0, 0, 0, 0, 0, 1, 0, 0, 1,\n",
       "       0, 0, 0, 0, 1, 0, 0, 1, 0, 0, 0, 1, 1, 0, 0, 0, 0, 0, 1, 0, 0, 0,\n",
       "       0, 0, 0, 0, 0, 0, 1, 0, 1, 0, 0, 0, 1, 1, 0, 0, 1, 0, 0, 1, 1, 0,\n",
       "       1, 0, 0, 0, 0, 0, 1, 0, 0, 1, 0, 0, 0, 0, 0, 0, 0, 0, 0, 1, 1, 0,\n",
       "       0, 0, 1, 1, 1, 0, 0, 0, 0, 0, 0, 1, 1, 1, 0, 0, 1, 1, 1, 0, 1, 0,\n",
       "       0, 0, 0, 0, 0, 0, 0, 1, 0, 1, 1, 0, 0, 0, 0, 0, 1, 0, 0, 0, 1, 1,\n",
       "       0, 1, 1, 0, 0, 1, 0, 0, 0, 1, 0, 0, 0, 1, 0, 0, 0, 0, 1, 0, 0, 0,\n",
       "       1, 0, 0, 1, 1, 0, 0, 1, 0, 1, 1, 1, 0, 0, 1, 1, 0, 0, 0, 0, 0, 1,\n",
       "       0, 1, 0], dtype=int64)"
      ]
     },
     "execution_count": 42,
     "metadata": {},
     "output_type": "execute_result"
    }
   ],
   "source": [
    "model.predict(X_test)"
   ]
  },
  {
   "cell_type": "code",
   "execution_count": 44,
   "id": "10fd187a",
   "metadata": {},
   "outputs": [
    {
     "data": {
      "text/plain": [
       "0.8799102132435466"
      ]
     },
     "execution_count": 44,
     "metadata": {},
     "output_type": "execute_result"
    }
   ],
   "source": [
    "model.score(X,y)"
   ]
  }
 ],
 "metadata": {
  "kernelspec": {
   "display_name": "Python 3",
   "language": "python",
   "name": "python3"
  },
  "language_info": {
   "codemirror_mode": {
    "name": "ipython",
    "version": 3
   },
   "file_extension": ".py",
   "mimetype": "text/x-python",
   "name": "python",
   "nbconvert_exporter": "python",
   "pygments_lexer": "ipython3",
   "version": "3.11.9"
  }
 },
 "nbformat": 4,
 "nbformat_minor": 5
}
